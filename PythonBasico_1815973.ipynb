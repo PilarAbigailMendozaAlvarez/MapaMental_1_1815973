{
 "cells": [
  {
   "cell_type": "markdown",
   "metadata": {},
   "source": [
    "$$UNIVERSIDAD\\hspace{1mm} AUTÓNOMA\\hspace{1mm} DE\\hspace{1mm} NUEVO\\hspace{1mm} LEÓN $$$$Facultad\\hspace{1mm}  de\\hspace {1mm}Ciencias\\hspace{1mm} Físico-Matemáticas $$$$Python\\hspace{1mm}  Básico\n",
    "$$$$Mineria\\hspace{1mm}de\\hspace{1mm}Datos$$ $$\\hspace{1mm}$$$$Pilar\\hspace{1mm} Abigail\\hspace{1mm} Mendoza\\hspace{1mm} Alvarez$$$$Matricula:\\hspace{1mm}1815973$$"
   ]
  },
  {
   "cell_type": "markdown",
   "metadata": {},
   "source": [
    "#### Ejercicio 1:\n",
    "Realiza una variable con tu matricula y realiza una secuencia de imprimir con tu nombre y tu matricula concatenados."
   ]
  },
  {
   "cell_type": "code",
   "execution_count": 4,
   "metadata": {},
   "outputs": [
    {
     "name": "stdout",
     "output_type": "stream",
     "text": [
      "Mi nombre es Abigail y mi matricula es 1815973\n"
     ]
    }
   ],
   "source": [
    "matricula = 1815973\n",
    "nombre='Abigail'\n",
    "print(\"Mi nombre es\", nombre, \"y mi matricula es \" +str(matricula))"
   ]
  },
  {
   "cell_type": "markdown",
   "metadata": {},
   "source": [
    "#### Ejercicio 2:\n",
    "Pidiendo el input del usuario pide dos números y crea una pequeña calculadora con los operadores básicos de suma, resta, multiplicación, división, y exponente."
   ]
  },
  {
   "cell_type": "code",
   "execution_count": 5,
   "metadata": {},
   "outputs": [
    {
     "name": "stdout",
     "output_type": "stream",
     "text": [
      "Introduce el primer numero:    3\n",
      "Introduce el segundo numero numero:    4\n"
     ]
    }
   ],
   "source": [
    "#RECUERDE QUE ES IMPORTANTE INTRODUCIR UN NUMERO ENTERO. \n",
    "#DE OTRA FORMA LE APARECERA UN ERROR\n",
    "\n",
    "n1 = float(input(\"Introduce el primer numero:    \"))\n",
    "n2 = float(input(\"Introduce el segundo numero numero:    \"))\n"
   ]
  },
  {
   "cell_type": "code",
   "execution_count": 6,
   "metadata": {},
   "outputs": [],
   "source": [
    "#Favor de correr esta celda , de lo contrario no se podra realizar ninguna operación\n",
    "\n",
    "def Suma(no1,no2):\n",
    "    s = no1 + no2\n",
    "    return s\n",
    "\n",
    "def Resta(no1,no2):\n",
    "    r = no1-no2\n",
    "    return r\n",
    "\n",
    "def Multiplicacion(no1,no2):\n",
    "    m = no1 * no2\n",
    "    return m\n",
    "\n",
    "def Division(no1, no2):\n",
    "    d = no1/no2\n",
    "    return d\n",
    "\n",
    "def Potencia(no1,no2):\n",
    "    p = no1 ** no2\n",
    "    return p\n"
   ]
  },
  {
   "cell_type": "code",
   "execution_count": 8,
   "metadata": {},
   "outputs": [
    {
     "name": "stdout",
     "output_type": "stream",
     "text": [
      "Dependiendo de la operación que quiera realizar deberá escoger entre las siguientes opciones opciones. S: Para suma, R: Para resta, M: Para multiplicación, D: para división y por ultimo, E: para elevar a un exponente:       q\n",
      "\n",
      "\n",
      "HA HABIDO UN ERROR EN CUANTO AL COMANDO DE LA OPERACIÓN QUE INTRODUJO YA QUE ESE COMANDO NO EXISTE, DEBE INTRODUCIR EN MAYUSCULAS UNA DE LAS LETRAS YA PROPORCIONADAS EN LA INTRUCCIÓN (S,R,M,D,E) PARA QUE SE PUEDA REALIZAR DE FORMA CORRECTA LA OPERACIÓN DESEADA. DE OTRA FORMA MARCARÁ ESTE ERROR. FAVOR DE CORRER DE NUEVO ESTA CELDA E INTRODUZCA CORRECTAMENTE EL COMANDO DE LA OPERACIÓN QUE DESEE HACER\n"
     ]
    }
   ],
   "source": [
    "# !!!!! INTRODUCIR FORZOZAMENTE EL TIPO DE VARIABLE QUE LE PROPORCIONA EL TEXTO SI NO LO HACE  EL SISTEMA FALLARA : numeros.-flotantes o enteros, texto.- letras o letra NO NUMEROS\n",
    "OP = input(\"Dependiendo de la operación que quiera realizar deberá escoger entre las siguientes opciones opciones. S: Para suma, R: Para resta, M: Para multiplicación, D: para división y por ultimo, E: para elevar a un exponente:       \")\n",
    "if OP == 'S' :\n",
    "    resultado = Suma(n1,n2)\n",
    "    print(\"\")\n",
    "    print(\"\")\n",
    "    print(\"El resultado de la suma de \", n1, \"y\", n2, \"es:\" ,resultado)\n",
    "    \n",
    "else :\n",
    "    if OP == 'R':\n",
    "        resultado = Resta(n1,n2)\n",
    "        print(\"\")\n",
    "        print(\"\")\n",
    "        print(\"El resultado de la Resta de \", n1, \"y\", n2, \"es:\" ,resultado)\n",
    "        print(\"RECUERDE QUE ESTA RESTA SE HIZO CON EL PRIMER NUMERO QUE INTRODUJO MENOS EL SEGUNDO NUMERO QUE INTRODUJO, SI QUIERE INVERTIR ESE ORDEN CORRA DE NUEVO LA CELDA DONDE INTRODUJO LOS DATOS Y PONGALOS EN ORDEN CONTRARIO, ACTO SEGUIDO VUELVA A CORRER ESTE CELDA\")\n",
    "    \n",
    "    else:\n",
    "        if OP == 'M':\n",
    "            resultado = Multiplicacion(n1,n2)\n",
    "            print(\"\")\n",
    "            print(\"\")\n",
    "            print(\"El resultado de la Multiplicación de \", n1, \"y\", n2, \"es:\" ,resultado)\n",
    "        \n",
    "        else:\n",
    "            if OP == 'D':\n",
    "                resultado = Division(n1,n2)\n",
    "                print(\"\")\n",
    "                print(\"\")\n",
    "                print(\"El resultado de la División de \", n1, \"entre\", n2, \"es:\" ,resultado)\n",
    "                print(\"RECUERDE QUE ESTA DIVISIÓN SE HIZO CON EL PRIMER NUMERO QUE INTRODUJO ENTRE EL SEGUNDO NUMERO QUE INTRODUJO, SI QUIERE INVERTIR ESE ORDEN CORRA DE NUEVO LA CELDA DONDE INTRODUJO LOS DATOS Y PONGALOS EN ORDEN CONTRARIO, ACTO SEGUIDO VUELVA A CORRER ESTE CELDA\")\n",
    "            \n",
    "            else:\n",
    "                if OP == 'E':\n",
    "                    resultado = Potencia(n1,n2)\n",
    "                    print(\"\")\n",
    "                    print(\"\")\n",
    "                    print(\"El resultado de elevar \", n1, \"al exponente\", n2, \"es:\" ,resultado)\n",
    "                    print(\"RECUERDE QUE ESTA POTENCIA O EXPONENTE SE HIZO CON EL PRIMER NUMERO QUE INTRODUJO ELEVADO AL SEGUNDO NUMERO QUE INTRODUJO, SI QUIERE INVERTIR ESE ORDEN CORRA DE NUEVO LA CELDA DONDE INTRODUJO LOS DATOS Y PONGALOS EN ORDEN CONTRARIO,ACTO SEGUIDO VUELVA A CORRER ESTE CELDA \")\n",
    "                \n",
    "                else:\n",
    "                    print(\"\")\n",
    "                    print(\"\")\n",
    "                    print(\"HA HABIDO UN ERROR EN CUANTO AL COMANDO DE LA OPERACIÓN QUE INTRODUJO YA QUE ESE COMANDO NO EXISTE, DEBE INTRODUCIR EN MAYUSCULAS UNA DE LAS LETRAS YA PROPORCIONADAS EN LA INTRUCCIÓN (S,R,M,D,E) PARA QUE SE PUEDA REALIZAR DE FORMA CORRECTA LA OPERACIÓN DESEADA. DE OTRA FORMA MARCARÁ ESTE ERROR. FAVOR DE CORRER DE NUEVO ESTA CELDA E INTRODUZCA CORRECTAMENTE EL COMANDO DE LA OPERACIÓN QUE DESEE HACER\")\n",
    "    \n",
    "    \n"
   ]
  },
  {
   "cell_type": "markdown",
   "metadata": {},
   "source": [
    "#### Ejercicio 3:\n",
    "Con loop while o for, realiza una lista de 10 numeros multiplos de 3, y después realiza una función de loop que sume todos los números dentro del arreglo."
   ]
  },
  {
   "cell_type": "code",
   "execution_count": 9,
   "metadata": {},
   "outputs": [
    {
     "name": "stdout",
     "output_type": "stream",
     "text": [
      "[15, 18, 21, 24, 27, 30, 33, 36, 39, 42]\n"
     ]
    }
   ],
   "source": [
    "#Aqui por cuestiones de que no me queda clara la instruccion pedire un numero del cual partire para hacer la lista, ya que no especifica de donde partir \n",
    "\n",
    "#se define la lista\n",
    "arrm3=[]\n",
    "\n",
    "#Se pide un numero cualquiera entero ya que debe ser entero para ser multirplo de cualquier otro entero\n",
    "m3 = 5\n",
    "\n",
    "for i in range (0,10):\n",
    "    datoi = (m3+i)*3\n",
    "    arrm3.append(datoi)\n",
    "    \n",
    "print(arrm3)"
   ]
  },
  {
   "cell_type": "code",
   "execution_count": 10,
   "metadata": {},
   "outputs": [],
   "source": [
    "#SE DEBE INTRODUCIR UN ARREGLO \n",
    "import numpy as np\n",
    "def SUMAARRM3(arr):\n",
    "    arregloM3=np.array(arr)\n",
    "    resp=sum(arregloM3)\n",
    "    return resp"
   ]
  },
  {
   "cell_type": "code",
   "execution_count": 11,
   "metadata": {},
   "outputs": [
    {
     "name": "stdout",
     "output_type": "stream",
     "text": [
      "La suma de los elementos del arreglo es: 285\n"
     ]
    }
   ],
   "source": [
    "respm3=SUMAARRM3(arrm3)\n",
    "print(\"La suma de los elementos del arreglo es:\", respm3)"
   ]
  },
  {
   "cell_type": "markdown",
   "metadata": {},
   "source": [
    "#### Ejercicio 4\n",
    "Con una función de if else, revisar si un número es par o es impar.\n",
    "Con una función de if else, revisar si un número es primo o no."
   ]
  },
  {
   "cell_type": "code",
   "execution_count": 12,
   "metadata": {},
   "outputs": [
    {
     "name": "stdout",
     "output_type": "stream",
     "text": [
      "Introduzca el numero que desee verificar si es par: 24\n",
      "Introduzca el numero que desee verificar si es primo: 15\n",
      "El numero  24  si es par\n",
      "El numero  15  si es primo\n"
     ]
    }
   ],
   "source": [
    "Npar = int (input(\"Introduzca el numero que desee verificar si es par: \"))\n",
    "Nprimo = int (input(\"Introduzca el numero que desee verificar si es primo: \"))\n",
    "\n",
    "#si es par el residuo de dividir el numero entre dos debe dar 0, si no es impar\n",
    "if Npar % 2 == 0:\n",
    "    print(\"El numero \", Npar, \" si es par\")\n",
    "else:\n",
    "    print(\"El numero \", Npar, \" es impar\")\n",
    "\n",
    "divisores = 0\n",
    "#Esta variable la vamos a usar para contar los divisores del número \n",
    "for j in (1, Nprimo):\n",
    "    if Nprimo % j == 0:\n",
    "        divisores = divisores + 1\n",
    "\n",
    "#Todos los numeros tienen al menos un divisor que es 1, si hay más divisores entonces es primo \n",
    "if(divisores >= 2):\n",
    "    print(\"El numero \", Nprimo, \" si es primo\")\n",
    "else:\n",
    "    print(\"El numero \", Nprimo, \" no es primo\")"
   ]
  },
  {
   "cell_type": "markdown",
   "metadata": {},
   "source": [
    "#### Ejercicio 5\n",
    "Utilizando diferentes clases en python, crea una calculadora con los operadores básicos de suma, resta, multiplicación, división, y exponente."
   ]
  },
  {
   "cell_type": "code",
   "execution_count": 14,
   "metadata": {},
   "outputs": [
    {
     "name": "stdout",
     "output_type": "stream",
     "text": [
      "Introduzca el primer numero:    31\n",
      "Introduzca el segundo numero:    2\n",
      "Dependiendo de la operación que quiera realizar deberá escoger entre las siguientes opciones opciones. s: Para suma, r: Para resta, m: Para multiplicación, d: para división y por ultimo, e: para elevar a un exponente:      m\n",
      "\n",
      "\n",
      "El resultado de la Multiplicación de  31.0 y 2.0 es: 62.0\n"
     ]
    }
   ],
   "source": [
    "# !!!!! INTRODUCIR FORZOZAMENTE EL TIPO DE VARIABLE QUE LE PROPORCIONA EL TEXTO SI NO LO HACE  EL SISTEMA FALLARA : numeros.-flotantes o enteros, texto.- letras o letra NO NUMEROS\n",
    "num1 = float(input(\"Introduzca el primer numero:    \"))\n",
    "num2 = float(input(\"Introduzca el segundo numero:    \"))\n",
    "\n",
    "suma=num1+num2\n",
    "resta=num1-num2\n",
    "multiplicacion=num1*num2\n",
    "division=num1/num2\n",
    "exponente=num1**num2\n",
    "\n",
    "#To: Tipo de operacion\n",
    "To= input(\"Dependiendo de la operación que quiera realizar deberá escoger entre las siguientes opciones opciones. s: Para suma, r: Para resta, m: Para multiplicación, d: para división y por ultimo, e: para elevar a un exponente:      \")\n",
    "if To == 's' :\n",
    "    print(\"\")\n",
    "    print(\"\")\n",
    "    print(\"El resultado de la suma de \", num1, \"y\", num2, \"es:\" ,suma)\n",
    "    \n",
    "else :\n",
    "    if To == 'r':\n",
    "        print(\"\")\n",
    "        print(\"\")\n",
    "        print(\"El resultado de la Resta de \", num1, \"y\", num2, \"es:\" ,resta)\n",
    "        print(\"RECUERDE QUE ESTA RESTA SE HIZO CON EL PRIMER NUMERO QUE INTRODUJO MENOS EL SEGUNDO NUMERO QUE INTRODUJO, SI QUIERE INVERTIR ESE ORDEN CORRA DE NUEVO LA CELDA DONDE INTRODUJO LOS DATOS Y PONGALOS EN ORDEN CONTRARIO, ACTO SEGUIDO VUELVA A CORRER ESTE CELDA\")\n",
    "    \n",
    "    else:\n",
    "        if To == 'm':\n",
    "            print(\"\")\n",
    "            print(\"\")\n",
    "            print(\"El resultado de la Multiplicación de \", num1, \"y\", num2, \"es:\" ,multiplicacion)\n",
    "        \n",
    "        else:\n",
    "            if To == 'd':\n",
    "                print(\"\")\n",
    "                print(\"\")\n",
    "                print(\"El resultado de la División de \", num1, \"entre\", num2, \"es:\" ,division)\n",
    "                print(\"RECUERDE QUE ESTA DIVISIÓN SE HIZO CON EL PRIMER NUMERO QUE INTRODUJO ENTRE EL SEGUNDO NUMERO QUE INTRODUJO, SI QUIERE INVERTIR ESE ORDEN CORRA DE NUEVO LA CELDA DONDE INTRODUJO LOS DATOS Y PONGALOS EN ORDEN CONTRARIO, ACTO SEGUIDO VUELVA A CORRER ESTE CELDA\")\n",
    "            \n",
    "            else:\n",
    "                if To == 'e':\n",
    "                    print(\"\")\n",
    "                    print(\"\")\n",
    "                    print(\"El resultado de elevar \", num1, \"al exponente\", num2, \"es:\" ,exponente)\n",
    "                    print(\"RECUERDE QUE ESTA POTENCIA O EXPONENTE SE HIZO CON EL PRIMER NUMERO QUE INTRODUJO ELEVADO AL SEGUNDO NUMERO QUE INTRODUJO, SI QUIERE INVERTIR ESE ORDEN CORRA DE NUEVO LA CELDA DONDE INTRODUJO LOS DATOS Y PONGALOS EN ORDEN CONTRARIO,ACTO SEGUIDO VUELVA A CORRER ESTE CELDA \")\n",
    "                \n",
    "                else:\n",
    "                    print(\"\")\n",
    "                    print(\"\")\n",
    "                    print(\"HA HABIDO UN ERROR EN CUANTO AL COMANDO DE LA OPERACIÓN QUE INTRODUJO YA QUE ESE COMANDO NO EXISTE, DEBE INTRODUCIR EN MINUSCULAS UNA DE LAS PALABRAS YA PROPORCIONADAS EN LA INTRUCCIÓN (suma,resta,multiplicacion,division,exponente) PARA QUE SE PUEDA REALIZAR DE FORMA CORRECTA LA OPERACIÓN DESEADA. DE OTRA FORMA MARCARÁ ESTE ERROR. FAVOR DE CORRER DE NUEVO ESTA CELDA E INTRODUZCA CORRECTAMENTE EL COMANDO DE LA OPERACIÓN QUE DESEE HACER\")\n",
    "    \n",
    "    "
   ]
  },
  {
   "cell_type": "markdown",
   "metadata": {},
   "source": [
    "### Ejercicios con estructuras básicas de python.\n",
    "#### Tuplas\n",
    "- Crear una variable flotante, integer, boleana y compleja e imprimir el tipo de variable que es."
   ]
  },
  {
   "cell_type": "code",
   "execution_count": 15,
   "metadata": {},
   "outputs": [
    {
     "name": "stdout",
     "output_type": "stream",
     "text": [
      "La variable  0.25  es de tipo:  <class 'float'>\n",
      "La variable  58  es de tipo:  <class 'int'>\n",
      "La variable  True  es de tipo:  <class 'bool'>\n",
      "La variable  (3+20j)  es de tipo:  <class 'complex'>\n"
     ]
    }
   ],
   "source": [
    "#Se eligen variables a mi criterio \n",
    "Flotante = 0.25\n",
    "Entero = 58\n",
    "Boleano = True\n",
    "Complejo = 3 + 20j\n",
    "print(\"La variable \",Flotante,\" es de tipo: \", type (Flotante))\n",
    "print(\"La variable \",Entero,\" es de tipo: \", type (Entero))\n",
    "print(\"La variable \",Boleano,\" es de tipo: \", type (Boleano))\n",
    "print(\"La variable \",Complejo,\" es de tipo: \", type (Complejo))"
   ]
  },
  {
   "cell_type": "markdown",
   "metadata": {},
   "source": [
    "- Crear una tupla con valores enteros imprimir el primer y ultimo valor."
   ]
  },
  {
   "cell_type": "code",
   "execution_count": 16,
   "metadata": {},
   "outputs": [
    {
     "name": "stdout",
     "output_type": "stream",
     "text": [
      "El primer valor de la tupla es: 2\n",
      "El ultimo valor valor de la tupla es: 12\n"
     ]
    }
   ],
   "source": [
    "#tupla de 5\n",
    "tupla =[2,6,10, 12]\n",
    "print(\"El primer valor de la tupla es:\", tupla[0])\n",
    "#verificar la longitud de la tupla para verificar el numero de elementos de la tupla y se quita un valor porque empieza desde 0 los lugares en las tuplas\n",
    "n=len(tupla) - 1\n",
    "print(\"El ultimo valor valor de la tupla es:\",tupla[n])"
   ]
  },
  {
   "cell_type": "code",
   "execution_count": 17,
   "metadata": {},
   "outputs": [
    {
     "data": {
      "text/plain": [
       "[2, 6, 10, 12, 'uno', 'dos']"
      ]
     },
     "execution_count": 17,
     "metadata": {},
     "output_type": "execute_result"
    }
   ],
   "source": [
    "tuplastring = ['uno', 'dos']\n",
    "tuplanueva=tupla + tuplastring\n",
    "tuplanueva"
   ]
  },
  {
   "cell_type": "markdown",
   "metadata": {},
   "source": [
    "- Verificar si una variable existe dentro de la tupla"
   ]
  },
  {
   "cell_type": "code",
   "execution_count": 22,
   "metadata": {},
   "outputs": [
    {
     "data": {
      "text/plain": [
       "True"
      ]
     },
     "execution_count": 22,
     "metadata": {},
     "output_type": "execute_result"
    }
   ],
   "source": [
    "#Si se desea buscar alguna variable en especifico: cambiar 'un' por una palabra o un numero. Si es numero sin comillas y si es una palaabra con comillas ''  \n",
    "'uno' in tuplanueva"
   ]
  },
  {
   "cell_type": "markdown",
   "metadata": {},
   "source": [
    "#### Listas\n",
    "- Crear una lista con 40 elementos aleatorios enteros."
   ]
  },
  {
   "cell_type": "code",
   "execution_count": 23,
   "metadata": {},
   "outputs": [
    {
     "name": "stdout",
     "output_type": "stream",
     "text": [
      "Una lista de 40 elementos es:  [79, 174, 339, 286, 144, 190, 431, 112, 492, 355, 392, 425, 269, 249, 97, 285, 302, 74, 412, 31, 31, 28, 253, 271, 198, 71, 468, 185, 158, 196, 160, 390, 176, 370, 111, 163, 57, 185, 390, 240]\n"
     ]
    }
   ],
   "source": [
    "import random as r\n",
    "\n",
    "lista=[r.randint(1,500)]\n",
    "\n",
    "for k in range(1,40):\n",
    "    listaaux = r.randint(1,500)\n",
    "    lista.append(listaaux)\n",
    "  \n",
    "    \n",
    "nlista=len(lista)\n",
    "print(\"Una lista de\", nlista, \"elementos es: \", lista)\n",
    "    "
   ]
  },
  {
   "cell_type": "markdown",
   "metadata": {},
   "source": [
    "- Con una funcion (def) crear dos listas nuevas a partir de la lista creada por numeros aleatorios, en la cual en una esten los elementos pares, y en la otra los elementos impares."
   ]
  },
  {
   "cell_type": "code",
   "execution_count": 24,
   "metadata": {},
   "outputs": [],
   "source": [
    "def clasificacion(listaclas):\n",
    "    listapares=[]\n",
    "    listaimpares=[]\n",
    "    for dato in lista:\n",
    "        if dato % 2 == 0:\n",
    "            listapares.append(dato)\n",
    "        else:\n",
    "            listaimpares.append(dato)\n",
    "\n",
    "    return listapares, listaimpares"
   ]
  },
  {
   "cell_type": "code",
   "execution_count": 25,
   "metadata": {},
   "outputs": [
    {
     "name": "stdout",
     "output_type": "stream",
     "text": [
      "La lista de pares tiene  21 elementos es: [174, 286, 144, 190, 112, 492, 392, 302, 74, 412, 28, 198, 468, 158, 196, 160, 390, 176, 370, 390, 240]\n",
      "La lista de impares tiene  19 elementos es: [79, 339, 431, 355, 425, 269, 249, 97, 285, 31, 31, 253, 271, 71, 185, 111, 163, 57, 185]\n"
     ]
    }
   ],
   "source": [
    "par, impar = clasificacion(lista)\n",
    "print(\"La lista de pares tiene \", len(par), \"elementos es:\", par)\n",
    "print(\"La lista de impares tiene \", len(impar), \"elementos es:\", impar)"
   ]
  },
  {
   "cell_type": "markdown",
   "metadata": {},
   "source": [
    "- Crear dos variables con la longitud de ambas listas nuevas e imprimir las variables."
   ]
  },
  {
   "cell_type": "code",
   "execution_count": 26,
   "metadata": {},
   "outputs": [
    {
     "name": "stdout",
     "output_type": "stream",
     "text": [
      "La longitud de la lista de pares es 21\n",
      "La longitud de la lista de impares es 19\n"
     ]
    }
   ],
   "source": [
    "npar = len(par)\n",
    "nimpar = len(impar)\n",
    "\n",
    "print(\"La longitud de la lista de pares es\",npar)\n",
    "print(\"La longitud de la lista de impares es\",nimpar)"
   ]
  },
  {
   "cell_type": "markdown",
   "metadata": {},
   "source": [
    "- Ordenar los elementos de la lista par de mayor a menor, y los de la lista impar de menor a mayor."
   ]
  },
  {
   "cell_type": "code",
   "execution_count": 27,
   "metadata": {},
   "outputs": [
    {
     "name": "stdout",
     "output_type": "stream",
     "text": [
      "Lista de pares ordenados es: [492, 468, 412, 392, 390, 390, 370, 302, 286, 240, 198, 196, 190, 176, 174, 160, 158, 144, 112, 74, 28]\n",
      "Lista de impares ordenados es:  [31, 31, 57, 71, 79, 97, 111, 163, 185, 185, 249, 253, 269, 271, 285, 339, 355, 425, 431]\n"
     ]
    }
   ],
   "source": [
    "#Tome como ejemplo funciones que aparecen en este link ----> https://likegeeks.com/es/funciones-de-listas-de-python/#Unir-una-lista\n",
    "par.sort()\n",
    "par.reverse()\n",
    "impar.sort()\n",
    "print(\"Lista de pares ordenados es:\", par)\n",
    "print(\"Lista de impares ordenados es: \", impar)"
   ]
  },
  {
   "cell_type": "markdown",
   "metadata": {},
   "source": [
    "- Utilizar al menos cuatro de las funciones de listas en python en la lista original de 40 elementos."
   ]
  },
  {
   "cell_type": "code",
   "execution_count": 43,
   "metadata": {},
   "outputs": [
    {
     "name": "stdout",
     "output_type": "stream",
     "text": [
      "[28, 31, 31, 57, 71, 74, 79, 97, 111, 112, 144, 158, 160, 163, 174, 176, 185, 185, 190, 196, 198, 240, 249, 253, 269, 271, 285, 286, 302, 339, 355, 370, 390, 390, 392, 412, 425, 431, 468, 492, 1815973]\n"
     ]
    }
   ],
   "source": [
    "#AÑADIR UN VALOR AL FINAL DE LA LISTA\n",
    "# Funcion variable_de_la_lista.append(valor añadido)\n",
    "lista.append(1815973)\n",
    "print(lista)"
   ]
  },
  {
   "cell_type": "code",
   "execution_count": 29,
   "metadata": {},
   "outputs": [
    {
     "name": "stdout",
     "output_type": "stream",
     "text": [
      "[79, 174, 339, 286, 144, 190, 431, 112, 492, 355, 392, 425, 269, 249, 97, 285, 302, 74, 412, 31, 31, 28, 253, 271, 198, 71, 468, 185, 158, 196, 160, 390, 176, 370, 111, 163, 57, 185, 390, 240]\n"
     ]
    }
   ],
   "source": [
    "# las siguientes 3 funciones se sacaron con ayuda de: https://likegeeks.com/es/funciones-de-listas-de-python/\n",
    "#se elimina el ultimo valor de la lista variable_de_la_lista.pop()\n",
    "lista.pop()\n",
    "print(lista)"
   ]
  },
  {
   "cell_type": "code",
   "execution_count": 31,
   "metadata": {},
   "outputs": [
    {
     "name": "stdout",
     "output_type": "stream",
     "text": [
      "0\n"
     ]
    }
   ],
   "source": [
    "#se busca la posicion del valor dado en la lista variable_de_la_lista..index(valorbuscado)\n",
    "#RECORDAR QUE en pyhton las posiciones empiezan en 0\n",
    "#Si da un valor que no está se dará cuenta porque aparcera un error\n",
    "print(lista.index(79))"
   ]
  },
  {
   "cell_type": "code",
   "execution_count": 34,
   "metadata": {},
   "outputs": [
    {
     "name": "stdout",
     "output_type": "stream",
     "text": [
      "[28, 31, 31, 57, 71, 74, 79, 97, 111, 112, 144, 158, 160, 163, 174, 176, 185, 185, 190, 196, 198, 240, 249, 253, 269, 271, 285, 286, 302, 339, 355, 370, 390, 390, 392, 412, 425, 431, 468, 492]\n"
     ]
    }
   ],
   "source": [
    "#Se ordena de la lista de menor a mayor con variable_de_la_lista.sort()\n",
    "lista.sort()\n",
    "print(lista)"
   ]
  },
  {
   "cell_type": "markdown",
   "metadata": {},
   "source": [
    "#### Diccionarios \n",
    "- Crear un diccionario de 6 personas que conozcas con su primer nombre y su edad."
   ]
  },
  {
   "cell_type": "code",
   "execution_count": 35,
   "metadata": {},
   "outputs": [],
   "source": [
    "#La información referente a diccionarios fue sacada de: https://devcode.la/tutoriales/diccionarios-en-python/\n",
    "diccionario = {\"Pilar\": 51, \"Julián\": 51, \"Gerardo\": 23, \"Gerson\": 20,\"Ana\": 18, \"Aida\":20 }\n"
   ]
  },
  {
   "cell_type": "markdown",
   "metadata": {},
   "source": [
    "- Crear una lista con los valores de la edad y reacomodar la lista de menor a mayor valor.\n"
   ]
  },
  {
   "cell_type": "code",
   "execution_count": 36,
   "metadata": {},
   "outputs": [
    {
     "name": "stdout",
     "output_type": "stream",
     "text": [
      "Las edades de los integrantes del diccionario en orden seria [18, 20, 20, 23, 51, 51]\n"
     ]
    }
   ],
   "source": [
    "edad = diccionario.values()\n",
    "\n",
    "print(\"Las edades de los integrantes del diccionario en orden seria\", sorted(list(edad)))"
   ]
  },
  {
   "cell_type": "markdown",
   "metadata": {},
   "source": [
    "- Usando el diccionario y un loop, imprimir solo los nombres."
   ]
  },
  {
   "cell_type": "code",
   "execution_count": 37,
   "metadata": {},
   "outputs": [
    {
     "name": "stdout",
     "output_type": "stream",
     "text": [
      "Pilar\n",
      "Julián\n",
      "Gerardo\n",
      "Gerson\n",
      "Ana\n",
      "Aida\n"
     ]
    }
   ],
   "source": [
    "ndicc=len(diccionario)\n",
    "\n",
    "for i in diccionario:\n",
    "    print(i)\n",
    "    "
   ]
  },
  {
   "cell_type": "markdown",
   "metadata": {},
   "source": [
    "- Añadir dos personas nuevas a tu diccionario, incluyendo edad."
   ]
  },
  {
   "cell_type": "code",
   "execution_count": 38,
   "metadata": {},
   "outputs": [
    {
     "name": "stdout",
     "output_type": "stream",
     "text": [
      "{'Pilar': 51, 'Julián': 51, 'Gerardo': 23, 'Gerson': 20, 'Ana': 18, 'Aida': 20, 'Salma': 21, 'Yazmin': 6}\n"
     ]
    }
   ],
   "source": [
    "diccionario [\"Salma\"] = 21\n",
    "diccionario [\"Yazmin\"] = 6\n",
    "\n",
    "print(diccionario)"
   ]
  },
  {
   "cell_type": "markdown",
   "metadata": {},
   "source": [
    "#### Sets\n",
    "- Crea un set con 100 numeros aleatorios enteros del 1 al 25."
   ]
  },
  {
   "cell_type": "code",
   "execution_count": 45,
   "metadata": {},
   "outputs": [
    {
     "name": "stdout",
     "output_type": "stream",
     "text": [
      "El set de 100 elementos es : {1, 2, 3, 4, 5, 6, 7, 8, 9, 10, 11, 12, 13, 14, 15, 16, 17, 18, 19, 20, 21, 22, 23, 24, 25}\n"
     ]
    }
   ],
   "source": [
    "#Apoyo con información relevante a sets : https://www.w3schools.com/python/python_sets.asp\n",
    "import random as r\n",
    "set100 = {r.randint(1,25)}\n",
    "for i in range(1,100):\n",
    "    setaux = r.randint(1,25)\n",
    "    set100.add(setaux)\n",
    "\n",
    "print(\"El set de 100 elementos es :\", set100)"
   ]
  },
  {
   "cell_type": "markdown",
   "metadata": {},
   "source": [
    "- Comprueba la longitud de tu set."
   ]
  },
  {
   "cell_type": "code",
   "execution_count": 46,
   "metadata": {},
   "outputs": [
    {
     "name": "stdout",
     "output_type": "stream",
     "text": [
      "La longitud del set es:  25\n"
     ]
    }
   ],
   "source": [
    "nset = len(set100)\n",
    "print(\"La longitud del set es: \", nset)"
   ]
  },
  {
   "cell_type": "markdown",
   "metadata": {},
   "source": [
    "- Crea una lista de 5 numeros aleatorios del 1 al 10 y comprueba si cada valor aparece en el set inicial."
   ]
  },
  {
   "cell_type": "code",
   "execution_count": 47,
   "metadata": {},
   "outputs": [
    {
     "name": "stdout",
     "output_type": "stream",
     "text": [
      "La lista de 5 numeros aleatorios es:  [6, 2, 2, 2, 10]\n",
      "El numero  6 de la lista también se encuentra en el set inicial\n",
      "El numero  2 de la lista también se encuentra en el set inicial\n",
      "El numero  2 de la lista también se encuentra en el set inicial\n",
      "El numero  2 de la lista también se encuentra en el set inicial\n",
      "El numero  10 de la lista también se encuentra en el set inicial\n"
     ]
    }
   ],
   "source": [
    "import random as r\n",
    "lista1_10 = [r.randint(1,10)]\n",
    "for j in range(1,5):\n",
    "    set1_10aux = r.randint(1,10)\n",
    "    lista1_10.append(set1_10aux)\n",
    "print(\"La lista de 5 numeros aleatorios es: \",  lista1_10)    \n",
    "\n",
    "for datolista in lista1_10:\n",
    "    datoset = datolista in set100\n",
    "    if datoset == True:\n",
    "        print(\"El numero \", datolista,\"de la lista también se encuentra en el set inicial\")\n",
    "    else :\n",
    "        print(\"El numero \", datolista,\"de la lista no se encuentra en el set inical\")\n"
   ]
  },
  {
   "cell_type": "code",
   "execution_count": null,
   "metadata": {},
   "outputs": [],
   "source": []
  }
 ],
 "metadata": {
  "kernelspec": {
   "display_name": "Python 3",
   "language": "python",
   "name": "python3"
  },
  "language_info": {
   "codemirror_mode": {
    "name": "ipython",
    "version": 3
   },
   "file_extension": ".py",
   "mimetype": "text/x-python",
   "name": "python",
   "nbconvert_exporter": "python",
   "pygments_lexer": "ipython3",
   "version": "3.7.4"
  }
 },
 "nbformat": 4,
 "nbformat_minor": 2
}
