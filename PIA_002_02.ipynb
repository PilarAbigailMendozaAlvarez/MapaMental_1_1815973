{
 "cells": [
  {
   "cell_type": "markdown",
   "metadata": {
    "id": "3_qR_Q-5vdhg"
   },
   "source": [
    "# **Avance II. Producto Integrador de Aprendizaje**"
   ]
  },
  {
   "cell_type": "markdown",
   "metadata": {
    "id": "pZLM9_HwQIpo"
   },
   "source": [
    "### Equipo 02 - Grupo 002\n",
    "\n",
    "### Frecuencia: Miércoles 7pm-10pm\n",
    "\n",
    "### Integrantes:\n",
    "#### 1802920\tJuarez Rodríguez Flor Karina\n",
    "#### 1815973\tMendoza Álvarez Pilar Abigail \n",
    "#### 1802473\tOrdaz Ruiz Margarita\n"
   ]
  },
  {
   "cell_type": "markdown",
   "metadata": {
    "id": "lh0C4GU3RhV-"
   },
   "source": [
    "# **“Suicide Rates Overview 1985 to 2016”**"
   ]
  },
  {
   "cell_type": "markdown",
   "metadata": {
    "id": "j7WyxoLTUfN7"
   },
   "source": [
    "## Descripción de los datos"
   ]
  },
  {
   "cell_type": "markdown",
   "metadata": {
    "id": "IEyqXbu2TPsd"
   },
   "source": [
    "<div class=text-justify>\n",
    "El conjunto de datos que muestra la base de datos fue extraído de otros cuatro conjuntos de datos vinculados por tiempo y lugar, y se creó con la finalidad de encontrar señales correlacionadas con el aumento de las tasas de suicidio entre diferentes cohortes a nivel mundial, en todo el espectro socioeconómico.\n",
    "\n",
    "$$$$\n",
    "<div class=text-justify>   \n",
    "Los datos se muestran en formato de tabla, la cual cuenta con 27,820 filas y 12 columnas con las siguientes descripciones: país (donde ocurrieron los suicidios), año (año en que ocurrieron los suicidios), sexo (contiene los valores “male” y female”), grupo de edad (rango de edad de 10 años de las personas que se suicidaron), recuento de suicidios (número de suicidios ocurridos), población (número de habitantes en ese año), tasa de suicidio (número de suicidios ocurridos entre la población divida entre mil), composite key de país-año (muestra el país seguido por el año), índice de desarrollo humano (HDI) por año (porcentaje), PIB por año, PIB per cápita (cantidades en dólares) y generación (promedio de agrupación de edad, nombre de la generación de las personas que se suicidaron). "
   ]
  },
  {
   "cell_type": "markdown",
   "metadata": {
    "id": "1dXpoQqAIikU"
   },
   "source": [
    "<div class=text-justify>\n",
    "Lo primero que necesitamos para comenzar a trabajar con la base de datos es importar las librerías que nos ayudarán en el proceso de limpieza de datos y leer nuestra base da datos, nuestro tipo de archivo es un csv *(Coma Separated Value)*, para esto ocupamos el siguiente código:"
   ]
  },
  {
   "cell_type": "code",
   "execution_count": 1,
   "metadata": {
    "id": "JaRjrrm-IikY"
   },
   "outputs": [
    {
     "ename": "FileNotFoundError",
     "evalue": "[Errno 2] File b'SUICIDIOS.csv' does not exist: b'SUICIDIOS.csv'",
     "output_type": "error",
     "traceback": [
      "\u001b[1;31m---------------------------------------------------------------------------\u001b[0m",
      "\u001b[1;31mFileNotFoundError\u001b[0m                         Traceback (most recent call last)",
      "\u001b[1;32m<ipython-input-1-1e4262279423>\u001b[0m in \u001b[0;36m<module>\u001b[1;34m\u001b[0m\n\u001b[0;32m      2\u001b[0m \u001b[1;32mimport\u001b[0m \u001b[0mnumpy\u001b[0m \u001b[1;32mas\u001b[0m \u001b[0mnp\u001b[0m\u001b[1;33m\u001b[0m\u001b[1;33m\u001b[0m\u001b[0m\n\u001b[0;32m      3\u001b[0m \u001b[1;33m\u001b[0m\u001b[0m\n\u001b[1;32m----> 4\u001b[1;33m \u001b[0mdatos\u001b[0m \u001b[1;33m=\u001b[0m \u001b[0mpd\u001b[0m\u001b[1;33m.\u001b[0m\u001b[0mread_csv\u001b[0m\u001b[1;33m(\u001b[0m\u001b[1;34m\"SUICIDIOS.csv\"\u001b[0m\u001b[1;33m)\u001b[0m\u001b[1;33m\u001b[0m\u001b[1;33m\u001b[0m\u001b[0m\n\u001b[0m",
      "\u001b[1;32m~\\Anaconda3\\lib\\site-packages\\pandas\\io\\parsers.py\u001b[0m in \u001b[0;36mparser_f\u001b[1;34m(filepath_or_buffer, sep, delimiter, header, names, index_col, usecols, squeeze, prefix, mangle_dupe_cols, dtype, engine, converters, true_values, false_values, skipinitialspace, skiprows, skipfooter, nrows, na_values, keep_default_na, na_filter, verbose, skip_blank_lines, parse_dates, infer_datetime_format, keep_date_col, date_parser, dayfirst, cache_dates, iterator, chunksize, compression, thousands, decimal, lineterminator, quotechar, quoting, doublequote, escapechar, comment, encoding, dialect, error_bad_lines, warn_bad_lines, delim_whitespace, low_memory, memory_map, float_precision)\u001b[0m\n\u001b[0;32m    683\u001b[0m         )\n\u001b[0;32m    684\u001b[0m \u001b[1;33m\u001b[0m\u001b[0m\n\u001b[1;32m--> 685\u001b[1;33m         \u001b[1;32mreturn\u001b[0m \u001b[0m_read\u001b[0m\u001b[1;33m(\u001b[0m\u001b[0mfilepath_or_buffer\u001b[0m\u001b[1;33m,\u001b[0m \u001b[0mkwds\u001b[0m\u001b[1;33m)\u001b[0m\u001b[1;33m\u001b[0m\u001b[1;33m\u001b[0m\u001b[0m\n\u001b[0m\u001b[0;32m    686\u001b[0m \u001b[1;33m\u001b[0m\u001b[0m\n\u001b[0;32m    687\u001b[0m     \u001b[0mparser_f\u001b[0m\u001b[1;33m.\u001b[0m\u001b[0m__name__\u001b[0m \u001b[1;33m=\u001b[0m \u001b[0mname\u001b[0m\u001b[1;33m\u001b[0m\u001b[1;33m\u001b[0m\u001b[0m\n",
      "\u001b[1;32m~\\Anaconda3\\lib\\site-packages\\pandas\\io\\parsers.py\u001b[0m in \u001b[0;36m_read\u001b[1;34m(filepath_or_buffer, kwds)\u001b[0m\n\u001b[0;32m    455\u001b[0m \u001b[1;33m\u001b[0m\u001b[0m\n\u001b[0;32m    456\u001b[0m     \u001b[1;31m# Create the parser.\u001b[0m\u001b[1;33m\u001b[0m\u001b[1;33m\u001b[0m\u001b[1;33m\u001b[0m\u001b[0m\n\u001b[1;32m--> 457\u001b[1;33m     \u001b[0mparser\u001b[0m \u001b[1;33m=\u001b[0m \u001b[0mTextFileReader\u001b[0m\u001b[1;33m(\u001b[0m\u001b[0mfp_or_buf\u001b[0m\u001b[1;33m,\u001b[0m \u001b[1;33m**\u001b[0m\u001b[0mkwds\u001b[0m\u001b[1;33m)\u001b[0m\u001b[1;33m\u001b[0m\u001b[1;33m\u001b[0m\u001b[0m\n\u001b[0m\u001b[0;32m    458\u001b[0m \u001b[1;33m\u001b[0m\u001b[0m\n\u001b[0;32m    459\u001b[0m     \u001b[1;32mif\u001b[0m \u001b[0mchunksize\u001b[0m \u001b[1;32mor\u001b[0m \u001b[0miterator\u001b[0m\u001b[1;33m:\u001b[0m\u001b[1;33m\u001b[0m\u001b[1;33m\u001b[0m\u001b[0m\n",
      "\u001b[1;32m~\\Anaconda3\\lib\\site-packages\\pandas\\io\\parsers.py\u001b[0m in \u001b[0;36m__init__\u001b[1;34m(self, f, engine, **kwds)\u001b[0m\n\u001b[0;32m    893\u001b[0m             \u001b[0mself\u001b[0m\u001b[1;33m.\u001b[0m\u001b[0moptions\u001b[0m\u001b[1;33m[\u001b[0m\u001b[1;34m\"has_index_names\"\u001b[0m\u001b[1;33m]\u001b[0m \u001b[1;33m=\u001b[0m \u001b[0mkwds\u001b[0m\u001b[1;33m[\u001b[0m\u001b[1;34m\"has_index_names\"\u001b[0m\u001b[1;33m]\u001b[0m\u001b[1;33m\u001b[0m\u001b[1;33m\u001b[0m\u001b[0m\n\u001b[0;32m    894\u001b[0m \u001b[1;33m\u001b[0m\u001b[0m\n\u001b[1;32m--> 895\u001b[1;33m         \u001b[0mself\u001b[0m\u001b[1;33m.\u001b[0m\u001b[0m_make_engine\u001b[0m\u001b[1;33m(\u001b[0m\u001b[0mself\u001b[0m\u001b[1;33m.\u001b[0m\u001b[0mengine\u001b[0m\u001b[1;33m)\u001b[0m\u001b[1;33m\u001b[0m\u001b[1;33m\u001b[0m\u001b[0m\n\u001b[0m\u001b[0;32m    896\u001b[0m \u001b[1;33m\u001b[0m\u001b[0m\n\u001b[0;32m    897\u001b[0m     \u001b[1;32mdef\u001b[0m \u001b[0mclose\u001b[0m\u001b[1;33m(\u001b[0m\u001b[0mself\u001b[0m\u001b[1;33m)\u001b[0m\u001b[1;33m:\u001b[0m\u001b[1;33m\u001b[0m\u001b[1;33m\u001b[0m\u001b[0m\n",
      "\u001b[1;32m~\\Anaconda3\\lib\\site-packages\\pandas\\io\\parsers.py\u001b[0m in \u001b[0;36m_make_engine\u001b[1;34m(self, engine)\u001b[0m\n\u001b[0;32m   1133\u001b[0m     \u001b[1;32mdef\u001b[0m \u001b[0m_make_engine\u001b[0m\u001b[1;33m(\u001b[0m\u001b[0mself\u001b[0m\u001b[1;33m,\u001b[0m \u001b[0mengine\u001b[0m\u001b[1;33m=\u001b[0m\u001b[1;34m\"c\"\u001b[0m\u001b[1;33m)\u001b[0m\u001b[1;33m:\u001b[0m\u001b[1;33m\u001b[0m\u001b[1;33m\u001b[0m\u001b[0m\n\u001b[0;32m   1134\u001b[0m         \u001b[1;32mif\u001b[0m \u001b[0mengine\u001b[0m \u001b[1;33m==\u001b[0m \u001b[1;34m\"c\"\u001b[0m\u001b[1;33m:\u001b[0m\u001b[1;33m\u001b[0m\u001b[1;33m\u001b[0m\u001b[0m\n\u001b[1;32m-> 1135\u001b[1;33m             \u001b[0mself\u001b[0m\u001b[1;33m.\u001b[0m\u001b[0m_engine\u001b[0m \u001b[1;33m=\u001b[0m \u001b[0mCParserWrapper\u001b[0m\u001b[1;33m(\u001b[0m\u001b[0mself\u001b[0m\u001b[1;33m.\u001b[0m\u001b[0mf\u001b[0m\u001b[1;33m,\u001b[0m \u001b[1;33m**\u001b[0m\u001b[0mself\u001b[0m\u001b[1;33m.\u001b[0m\u001b[0moptions\u001b[0m\u001b[1;33m)\u001b[0m\u001b[1;33m\u001b[0m\u001b[1;33m\u001b[0m\u001b[0m\n\u001b[0m\u001b[0;32m   1136\u001b[0m         \u001b[1;32melse\u001b[0m\u001b[1;33m:\u001b[0m\u001b[1;33m\u001b[0m\u001b[1;33m\u001b[0m\u001b[0m\n\u001b[0;32m   1137\u001b[0m             \u001b[1;32mif\u001b[0m \u001b[0mengine\u001b[0m \u001b[1;33m==\u001b[0m \u001b[1;34m\"python\"\u001b[0m\u001b[1;33m:\u001b[0m\u001b[1;33m\u001b[0m\u001b[1;33m\u001b[0m\u001b[0m\n",
      "\u001b[1;32m~\\Anaconda3\\lib\\site-packages\\pandas\\io\\parsers.py\u001b[0m in \u001b[0;36m__init__\u001b[1;34m(self, src, **kwds)\u001b[0m\n\u001b[0;32m   1915\u001b[0m         \u001b[0mkwds\u001b[0m\u001b[1;33m[\u001b[0m\u001b[1;34m\"usecols\"\u001b[0m\u001b[1;33m]\u001b[0m \u001b[1;33m=\u001b[0m \u001b[0mself\u001b[0m\u001b[1;33m.\u001b[0m\u001b[0musecols\u001b[0m\u001b[1;33m\u001b[0m\u001b[1;33m\u001b[0m\u001b[0m\n\u001b[0;32m   1916\u001b[0m \u001b[1;33m\u001b[0m\u001b[0m\n\u001b[1;32m-> 1917\u001b[1;33m         \u001b[0mself\u001b[0m\u001b[1;33m.\u001b[0m\u001b[0m_reader\u001b[0m \u001b[1;33m=\u001b[0m \u001b[0mparsers\u001b[0m\u001b[1;33m.\u001b[0m\u001b[0mTextReader\u001b[0m\u001b[1;33m(\u001b[0m\u001b[0msrc\u001b[0m\u001b[1;33m,\u001b[0m \u001b[1;33m**\u001b[0m\u001b[0mkwds\u001b[0m\u001b[1;33m)\u001b[0m\u001b[1;33m\u001b[0m\u001b[1;33m\u001b[0m\u001b[0m\n\u001b[0m\u001b[0;32m   1918\u001b[0m         \u001b[0mself\u001b[0m\u001b[1;33m.\u001b[0m\u001b[0munnamed_cols\u001b[0m \u001b[1;33m=\u001b[0m \u001b[0mself\u001b[0m\u001b[1;33m.\u001b[0m\u001b[0m_reader\u001b[0m\u001b[1;33m.\u001b[0m\u001b[0munnamed_cols\u001b[0m\u001b[1;33m\u001b[0m\u001b[1;33m\u001b[0m\u001b[0m\n\u001b[0;32m   1919\u001b[0m \u001b[1;33m\u001b[0m\u001b[0m\n",
      "\u001b[1;32mpandas\\_libs\\parsers.pyx\u001b[0m in \u001b[0;36mpandas._libs.parsers.TextReader.__cinit__\u001b[1;34m()\u001b[0m\n",
      "\u001b[1;32mpandas\\_libs\\parsers.pyx\u001b[0m in \u001b[0;36mpandas._libs.parsers.TextReader._setup_parser_source\u001b[1;34m()\u001b[0m\n",
      "\u001b[1;31mFileNotFoundError\u001b[0m: [Errno 2] File b'SUICIDIOS.csv' does not exist: b'SUICIDIOS.csv'"
     ]
    }
   ],
   "source": [
    "import pandas as pd\n",
    "import numpy as np\n",
    "\n",
    "datos = pd.read_csv(\"SUICIDIOS.csv\")"
   ]
  },
  {
   "cell_type": "markdown",
   "metadata": {
    "id": "HrH09PK-Iik8"
   },
   "source": [
    "La función *shape* nos devuelve (filas,columnas) con las que cuenta nuestra base de datos."
   ]
  },
  {
   "cell_type": "code",
   "execution_count": null,
   "metadata": {
    "colab": {
     "base_uri": "https://localhost:8080/"
    },
    "id": "7HG-HuIsIilF",
    "outputId": "5ddf625d-3034-4fc0-c861-e104da8ae95b"
   },
   "outputs": [],
   "source": [
    "datos.shape"
   ]
  },
  {
   "cell_type": "markdown",
   "metadata": {
    "id": "MTEohIahUAib"
   },
   "source": [
    "Los nombres de las columnas son:"
   ]
  },
  {
   "cell_type": "code",
   "execution_count": null,
   "metadata": {
    "colab": {
     "base_uri": "https://localhost:8080/"
    },
    "id": "aqVLhlK7Iilb",
    "outputId": "db53c5ad-fe91-4988-da37-8b025993e230"
   },
   "outputs": [],
   "source": [
    "datos.columns"
   ]
  },
  {
   "cell_type": "markdown",
   "metadata": {
    "id": "josw_kgZUAi9"
   },
   "source": [
    "Los rangos de edades que tenemos son:"
   ]
  },
  {
   "cell_type": "code",
   "execution_count": null,
   "metadata": {
    "colab": {
     "base_uri": "https://localhost:8080/"
    },
    "id": "wjg47CYjIilq",
    "outputId": "68491337-c589-4f82-cc8e-2f8ae46e8b3f"
   },
   "outputs": [],
   "source": [
    "print(datos.age.unique())\n",
    "print(\"Los rangos de edades que tenemos son: \",len(datos.age.unique()))"
   ]
  },
  {
   "cell_type": "markdown",
   "metadata": {
    "id": "An0Vctg4UAjL"
   },
   "source": [
    "Los países que tenemos son:"
   ]
  },
  {
   "cell_type": "code",
   "execution_count": null,
   "metadata": {
    "colab": {
     "base_uri": "https://localhost:8080/"
    },
    "id": "z649TS2LIil3",
    "outputId": "2a0d18c1-648e-4f7b-d38e-0991d22acf0a"
   },
   "outputs": [],
   "source": [
    "print(datos.country.unique())\n",
    "print(\"El número de países que tenemos es: \",len(datos.country.unique()))"
   ]
  },
  {
   "cell_type": "markdown",
   "metadata": {
    "id": "lYFcwSTpUAjg"
   },
   "source": [
    "Aqui se presentan los años que contiene nuestra base de datos."
   ]
  },
  {
   "cell_type": "code",
   "execution_count": null,
   "metadata": {
    "colab": {
     "base_uri": "https://localhost:8080/"
    },
    "id": "HFj41jZlIimQ",
    "outputId": "75cf83c3-9fad-4705-e3ac-5b082a5e6c2d"
   },
   "outputs": [],
   "source": [
    "print(datos.year.unique())\n",
    "print(\"El número total de años que abarca nuestra base es: \",len(datos.year.unique()))"
   ]
  },
  {
   "cell_type": "markdown",
   "metadata": {
    "id": "-pTmLWrQUAjv"
   },
   "source": [
    "Abajo se presentan los nombres de las generaciones que tiene nuestra base."
   ]
  },
  {
   "cell_type": "code",
   "execution_count": null,
   "metadata": {
    "colab": {
     "base_uri": "https://localhost:8080/"
    },
    "id": "uPb5QBk8Iiml",
    "outputId": "d4ab21c7-c757-4349-9396-7dd54ee01703"
   },
   "outputs": [],
   "source": [
    "print(datos.generation.unique())\n",
    "print(\"Tenemos en total \",len(datos.generation.unique()),\" generaciones.\")"
   ]
  },
  {
   "cell_type": "code",
   "execution_count": null,
   "metadata": {
    "colab": {
     "base_uri": "https://localhost:8080/"
    },
    "id": "qt10uHQ4Iim7",
    "outputId": "0f2e0980-a6dc-4d8e-dbb0-ea4c5fd80423"
   },
   "outputs": [],
   "source": [
    "datos.dtypes"
   ]
  },
  {
   "cell_type": "markdown",
   "metadata": {
    "id": "xy6Wss8EnDTu"
   },
   "source": [
    "## Justificación del uso de datos"
   ]
  },
  {
   "cell_type": "markdown",
   "metadata": {
    "id": "ih5jzvjHnKFR"
   },
   "source": [
    "<div class=text-justify>\n",
    "La elección de esta base de datos se debió a que nos llamó la atención que tratara sobre el suicidio dado que es un tema muy importante y del cuál se debería de hablar más para saber de él y tratar de prevenirlo, además, dado que estamos atravesando una pandemia y muchas personas nos encontramos en confinamiento los problemas de salud mental se vieron incrementados y entre ellos se encuentra el suicidio. Luego de que abrimos y analizamos un poco más la base de datos vimos que aparte de ser un gran tema el que trata, tenía mucha información con la cuál trabajar y esto nos beneficiaría a la hora de elegir nuestro objetivo. \n",
    "\n",
    "$$$$\n",
    "<div class=text-justify>\n",
    "Esperamos que trabajar con este conjunto de datos nos ayude a entender más sobre el tema del suicidio y los diferentes factores que influyen en él para así poder crear un poco más de conciencia y ver cómo esto se puede implementar en los programas sociales que existen para la prevención de este."
   ]
  },
  {
   "cell_type": "markdown",
   "metadata": {
    "id": "6Ux2zA2FvGhc"
   },
   "source": [
    "## Objetivos"
   ]
  },
  {
   "cell_type": "markdown",
   "metadata": {
    "id": "91TArP95vk0M"
   },
   "source": [
    "<div class=text-justify>\n",
    "Nuestro objetivo principal se basa en que, se observan variaciones en las tasas de suicidios, y queremos encontrar si existe relación alguna entre las variables que se presentan en la base de datos que se utilizará a lo largo del proyecto (presentadas como columnas), y determinar cuáles son aquellas características que podrían ser factores en común en los que cuales pueden enfocarse alternativas y/o programas sociales con la finalidad de decrementar en la medida de lo posible estas tasas.\n",
    "    \n",
    "$$$$ \n",
    "\n",
    "<div class=text-justify>\n",
    "Además de nuestro objetivo principal, también queremos enfocarnos en un objetivo secundario el cual sería investigar si los tiempos de crisis son un factor detonante a la alteración de las tasas de suicidio, incluyendo también la región/país en la que se encuentren. "
   ]
  },
  {
   "cell_type": "markdown",
   "metadata": {
    "id": "xrT_yyyGIinG"
   },
   "source": [
    "## Limpieza de Datos"
   ]
  },
  {
   "cell_type": "markdown",
   "metadata": {
    "id": "X1hKNzn7IinI"
   },
   "source": [
    "<div class=text-justify>\n",
    "Una vez explicada nuesta base de datos y lo que queremos lograr con ella iniciaremos con la limpieza de datos y lo primero que queremos hacer es ver nuestros datos y con el siguiente código vamos a mostrar los primeros 5 renglones de nuestra base de datos sin manipulación."
   ]
  },
  {
   "cell_type": "code",
   "execution_count": null,
   "metadata": {
    "colab": {
     "base_uri": "https://localhost:8080/",
     "height": 411
    },
    "id": "Uh4SsXDYIinL",
    "outputId": "54fea355-6578-4c32-cbc5-b3bef7c0a36c"
   },
   "outputs": [],
   "source": [
    "datos.head()"
   ]
  },
  {
   "cell_type": "markdown",
   "metadata": {
    "id": "sZ-2U7QvIinY"
   },
   "source": [
    "El siguiente paso es eliminar las columnas que no necesitamos, para poder optimizar el código, en este caso nosotras decidimos eliminar la columna  _**population**_ esto debido a que ya tenemos el porcentaje de suicidios por población así que se nos hizo redundante, la columna _**country-year**_ porque al igual que la columna *population* es redundante, debido a que ya tenemos tanto el país como el año,  _**HDI for year**_ debido a que no nos es últil para nuestros objetivos y la columna _**gdp_for_year**_ esto porque preferimos basarnos en la columna _**gdp_per_capita**_.\n",
    "\n",
    "Para esto utilizamos la función *drop()*, cabe mencionar que estos cambios decidimos almacenarnos en otra variable, para poder seguir teniendo nuestros datos originales."
   ]
  },
  {
   "cell_type": "code",
   "execution_count": null,
   "metadata": {
    "colab": {
     "base_uri": "https://localhost:8080/",
     "height": 204
    },
    "id": "oVwZ2nEEIina",
    "outputId": "ee463a6c-f9d8-4536-a1a8-57afaa0f6f29",
    "scrolled": true
   },
   "outputs": [],
   "source": [
    "ds = datos.drop(['country-year','population',' gdp_for_year ($) ','HDI for year'],axis = 1)\n",
    "ds.head()"
   ]
  },
  {
   "cell_type": "markdown",
   "metadata": {
    "id": "67JyiurdIino"
   },
   "source": [
    "Ahora vamos a cambiarle el nombre a las columnas para que nos sea más fácil manipular los datos."
   ]
  },
  {
   "cell_type": "code",
   "execution_count": null,
   "metadata": {
    "colab": {
     "base_uri": "https://localhost:8080/",
     "height": 204
    },
    "id": "dQWNit3aIinq",
    "outputId": "a5629d5f-97a4-4e53-82da-23585bd11b96"
   },
   "outputs": [],
   "source": [
    "ds.rename(columns={'suicides/100k pop':'porcentaje_suicidios',\n",
    "                     'gdp_per_capita ($)':'per_capita'},\n",
    "               inplace=True)\n",
    "\n",
    "ds.head()"
   ]
  },
  {
   "cell_type": "markdown",
   "metadata": {
    "id": "zk0eyx_3UAlK"
   },
   "source": [
    "Otro detalle que notamos es que los datos del 2016 están incompletos, y eso afectaba la parte de la visualización, así que decidimos eliminar las filas que tuvieran el año 2016."
   ]
  },
  {
   "cell_type": "code",
   "execution_count": null,
   "metadata": {
    "id": "ALCkOIIeUAlM"
   },
   "outputs": [],
   "source": [
    "ds = ds.drop(ds[ds['year']==2016].index)"
   ]
  },
  {
   "cell_type": "markdown",
   "metadata": {
    "id": "lIGImTahIin9"
   },
   "source": [
    "Lo siguiente es ver si nuestra base contiene datos nulos, a simple vista no se ve ninguno, pero lo verficamos con la siguiente función:"
   ]
  },
  {
   "cell_type": "code",
   "execution_count": null,
   "metadata": {
    "colab": {
     "base_uri": "https://localhost:8080/"
    },
    "id": "MqMotZsdIioA",
    "outputId": "ca0f7838-6f84-4692-b503-b21c9d6c2736"
   },
   "outputs": [],
   "source": [
    "ds.isnull().any()"
   ]
  },
  {
   "cell_type": "markdown",
   "metadata": {
    "id": "KpVRYWWYIioO"
   },
   "source": [
    "Ahora procederemos a guardar estos datos en un nuevo archivo csv."
   ]
  },
  {
   "cell_type": "code",
   "execution_count": null,
   "metadata": {
    "id": "xMnHGXD1IioW"
   },
   "outputs": [],
   "source": [
    "ds.to_csv('Datos_Suicidios_limpios.csv', index=False)"
   ]
  },
  {
   "cell_type": "markdown",
   "metadata": {
    "id": "2I1_C5Z8Iioi"
   },
   "source": [
    "<div class=text-justify>\n",
    "Como hemos visto tenemos muchos datos y esto nos dificulta el estudio estadístico de los mismos así que decidimos agrupar los datos por edades, esto porque nos interesa ver como es que varían los números de suicidios de acuerdo a las edades. Para esto primero vemos cuales son los valores únicos de edades."
   ]
  },
  {
   "cell_type": "code",
   "execution_count": null,
   "metadata": {
    "colab": {
     "base_uri": "https://localhost:8080/"
    },
    "id": "UhwtOZQgIion",
    "outputId": "7297e143-e5e5-4138-c58f-17789b67684a"
   },
   "outputs": [],
   "source": [
    "edad = ds.age.unique()\n",
    "print(edad)"
   ]
  },
  {
   "cell_type": "markdown",
   "metadata": {
    "id": "zWDhBBVnIioy"
   },
   "source": [
    "Después con un ciclo for le asignamos cada agrupación de datos por rango de año a los elementos de una lista."
   ]
  },
  {
   "cell_type": "code",
   "execution_count": null,
   "metadata": {
    "colab": {
     "base_uri": "https://localhost:8080/",
     "height": 204
    },
    "id": "jIblsT05Iio1",
    "outputId": "25ba099b-2074-4e20-cfae-0edd5335972f"
   },
   "outputs": [],
   "source": [
    "col = []\n",
    "for i in range(0,6):\n",
    "    col.append(ds[ds['age']==edad[i]])\n",
    "\n",
    "col[0].head()"
   ]
  },
  {
   "cell_type": "markdown",
   "metadata": {
    "id": "5Yc_eclDxPIa"
   },
   "source": [
    "## Estadística básica"
   ]
  },
  {
   "cell_type": "markdown",
   "metadata": {
    "id": "vGCfzd6DxXLz"
   },
   "source": [
    "- Para la estadística básica decidimos usar la función *describe()* dado que ésta nos arroja un resumen estadístico de una columna que en este caso fue la de *suicides_no*"
   ]
  },
  {
   "cell_type": "code",
   "execution_count": null,
   "metadata": {
    "colab": {
     "base_uri": "https://localhost:8080/"
    },
    "id": "M6zJAZeAzEvc",
    "outputId": "a43baeb3-b3b3-4dda-e3e2-7c433687017e"
   },
   "outputs": [],
   "source": [
    "ds['suicides_no'].describe()"
   ]
  },
  {
   "cell_type": "markdown",
   "metadata": {
    "id": "KfX_rry-JbF5"
   },
   "source": [
    "<div class=text-justify>\n",
    "-Lo que nos pareció más relevante de este resumen estadístico fueron los valores mínimo y máximo ya que nos muestra que los datos tiene mucha variabilidad, lo que nos reafirma que es más conveniente trabajar por agrupaciones."
   ]
  },
  {
   "cell_type": "markdown",
   "metadata": {
    "id": "FptZ_bYCUAm7"
   },
   "source": [
    "- Dado que los valores tienen mucho variabilidad, decidimos ver que tanto varían por rango de edad."
   ]
  },
  {
   "cell_type": "markdown",
   "metadata": {},
   "source": [
    "**$$5-14$$**"
   ]
  },
  {
   "cell_type": "code",
   "execution_count": null,
   "metadata": {
    "id": "_T5Xd04EUAm9",
    "outputId": "93896620-6a32-4125-840e-12f92429681e"
   },
   "outputs": [],
   "source": [
    "col[5]['suicides_no'].describe()"
   ]
  },
  {
   "cell_type": "markdown",
   "metadata": {},
   "source": [
    "**$$15-24$$**"
   ]
  },
  {
   "cell_type": "code",
   "execution_count": null,
   "metadata": {
    "id": "7a8Q1XLIUAnT",
    "outputId": "16aa2b94-67ce-482c-caa4-a0cbd1bf7eb1",
    "scrolled": true
   },
   "outputs": [],
   "source": [
    "col[0]['suicides_no'].describe()"
   ]
  },
  {
   "cell_type": "markdown",
   "metadata": {},
   "source": [
    "**$$25-34$$**"
   ]
  },
  {
   "cell_type": "code",
   "execution_count": null,
   "metadata": {
    "id": "jq5oJB8HUAnf",
    "outputId": "a5d714c1-4840-4201-d498-30c6d596c65e"
   },
   "outputs": [],
   "source": [
    "col[3]['suicides_no'].describe()"
   ]
  },
  {
   "cell_type": "markdown",
   "metadata": {},
   "source": [
    "**$$35-54$$**"
   ]
  },
  {
   "cell_type": "code",
   "execution_count": null,
   "metadata": {
    "id": "DUbnQgvFUAnr",
    "outputId": "802f0fcc-55df-48ea-cefb-6663975e5527"
   },
   "outputs": [],
   "source": [
    "col[1]['suicides_no'].describe()"
   ]
  },
  {
   "cell_type": "markdown",
   "metadata": {},
   "source": [
    "**$$55-74$$**"
   ]
  },
  {
   "cell_type": "code",
   "execution_count": null,
   "metadata": {
    "id": "jNpIHgatUAn7",
    "outputId": "0690ccfe-6395-4441-9dd0-ebd57c49834b"
   },
   "outputs": [],
   "source": [
    "col[4]['suicides_no'].describe()"
   ]
  },
  {
   "cell_type": "markdown",
   "metadata": {},
   "source": [
    "**$$75+$$**"
   ]
  },
  {
   "cell_type": "code",
   "execution_count": null,
   "metadata": {
    "id": "d5652ZqTUAoG",
    "outputId": "2f79e0e9-65bd-49eb-a6f9-93eaa0721528"
   },
   "outputs": [],
   "source": [
    "col[2]['suicides_no'].describe()"
   ]
  },
  {
   "cell_type": "markdown",
   "metadata": {
    "id": "DAiriZzziL27"
   },
   "source": [
    "<div class=text-justify>\n",
    "-De los resúmenes estadísticos obtenidos por rango de edad podemos concluir dos cosas, la primera es que efectivamente cada rango tiene la misma cantidad de elementos y la segunda es que podemos ver que su variabilidad es más aceptable y fácil de manejear si se compara con la obtenida en la columna de suicides_no.\n",
    "    \n",
    "$$$$\n",
    "Esto nos ayuda a ver la gran utilidad que será trabajar en agrupaciones y dado que es un proceso repetitivo decidimos no obtener los resúmenes estadísticos de todas las agrupaciones a utilizar pero se mostrarán gráficamente más adelante."
   ]
  },
  {
   "cell_type": "markdown",
   "metadata": {
    "id": "_5fuXqJZ0JKz"
   },
   "source": [
    "- Además, decidimos aplican la función *skew()* para obtener el valor de asimetría de la columna *suicides_no*"
   ]
  },
  {
   "cell_type": "code",
   "execution_count": null,
   "metadata": {
    "colab": {
     "base_uri": "https://localhost:8080/"
    },
    "id": "JUxtNT1BzHfA",
    "outputId": "72be5a75-f8ef-4f5b-8d44-83457543a83b"
   },
   "outputs": [],
   "source": [
    "ds['suicides_no'].skew()"
   ]
  },
  {
   "cell_type": "markdown",
   "metadata": {
    "id": "OrK3KBYQ5NIB"
   },
   "source": [
    "<div class=text-justify>\n",
    "-Como el valor de asimetría es mayor que 1 y por lo tanto positivo, podemos decir que la columna tiene una distribución extremadamente sesgada a la izquierda y ésto se confirmará con las gráficas."
   ]
  },
  {
   "cell_type": "markdown",
   "metadata": {
    "id": "G3dcwnXzUAoR"
   },
   "source": [
    "## Visualización de datos"
   ]
  },
  {
   "cell_type": "markdown",
   "metadata": {
    "id": "xY5dsEHwUAoT"
   },
   "source": [
    "Importamos las librerías que vamos a utilizar para realizar las gráficas."
   ]
  },
  {
   "cell_type": "code",
   "execution_count": null,
   "metadata": {
    "id": "FJAfXeNgUAoV"
   },
   "outputs": [],
   "source": [
    "import matplotlib.pyplot as plt\n",
    "import seaborn as sns\n",
    "import plotly.express as px #https://plotly.com/python/plotly-express/"
   ]
  },
  {
   "cell_type": "markdown",
   "metadata": {
    "id": "B4VrwckfUAon"
   },
   "source": [
    "<div class=text-justify>\n",
    "Como nuestro objetivo es determinar los factores que afecten más al número de suicidios decidimos realizar primero una gráfica de pastel en donde buscamos visualizar primeramente como se reparten nuestros datos en cuanto a las generaciones:"
   ]
  },
  {
   "cell_type": "code",
   "execution_count": null,
   "metadata": {
    "id": "u6TL2tMfUAop",
    "outputId": "f709fd70-8f80-4eb3-ab5f-b1ad55d01925"
   },
   "outputs": [],
   "source": [
    "f,ax=plt.subplots(1,1,figsize=(18,8))\n",
    "\n",
    "ds['generation'].value_counts().plot.pie(explode=[0.1,0.1,0.1,0.1,0.1,0.1],autopct='%1.1f%%',shadow=True)\n",
    "color = sns.color_palette(\"husl\", 6)\n",
    "sns.set(style=\"darkgrid\")\n",
    "plt.title('Conteo de Generaciones',size = 18)\n",
    "plt.ylabel('Generación')"
   ]
  },
  {
   "cell_type": "markdown",
   "metadata": {
    "id": "hHWkl-zwUAo0"
   },
   "source": [
    "<div class=text-justify>\n",
    "Ahora buscaremos los países con mayor número de suicidios, para evaluar el valor máximo, y para esto nos apoyaremos de una gráfica de barras y un mapa. "
   ]
  },
  {
   "cell_type": "code",
   "execution_count": null,
   "metadata": {
    "id": "LQyWvPHcUAo1",
    "outputId": "955fb779-4963-4780-82c3-666afc46057e"
   },
   "outputs": [],
   "source": [
    "Totalpais = ds.groupby(by=['country']).agg({'suicides_no': ['sum']})\n",
    "Totalpais.columns = ['Tsuicidios']\n",
    "Totalpais.reset_index(inplace=True)\n",
    "Totalpais = Totalpais.sort_values(by=['Tsuicidios'], ascending=False).head(15)\n",
    "\n",
    "\n",
    "color = sns.color_palette(\"husl\", 15)\n",
    "sns.set(style=\"darkgrid\")\n",
    "plt.figure(figsize=(13, 8))\n",
    "sns.barplot(x='Tsuicidios', y='country', data=Totalpais, palette=color)\n",
    "plt.xticks(rotation=90)\n",
    "\n",
    "\n",
    "plt.figtext(.5,.91,'Top 15 paises total de suicidios (1985 - 2015)', color='b', fontsize=25, ha='center')\n",
    "plt.xlabel('Total de suicidios')\n",
    "plt.ylabel('País')\n",
    "plt.show()"
   ]
  },
  {
   "cell_type": "code",
   "execution_count": null,
   "metadata": {
    "id": "-vkM2JbbUAo_",
    "outputId": "fc0296ce-ac38-4ec4-c472-7b9fc93f7c73",
    "scrolled": false
   },
   "outputs": [],
   "source": [
    "#para este gráfico se INSTALA e IMPORTA la libreria plotly https://plotly.com/python/plotly-express/\n",
    "mapita = ds.groupby(by=['country']).agg({\"suicides_no\": ['sum']})\n",
    "mapita.columns = ['total_suicidios']\n",
    "mapita.reset_index(inplace=True)\n",
    "mapita\n",
    "\n",
    "fig = px.choropleth(mapita, locations=\"country\", locationmode='country names',\n",
    "                    color=\"total_suicidios\", \n",
    "                    hover_name=\"country\", \n",
    "                    color_continuous_scale='sunset')\n",
    "\n",
    "fig.update_layout(\n",
    "    title=\"Mapa de suicidios (1985 - 2015)\",\n",
    "    font=dict(\n",
    "        family=\"Courier New, monospace\",\n",
    "        size=15,\n",
    "        color=\"RebeccaPurple\"\n",
    "    )\n",
    ")\n",
    "\n",
    "fig.show()"
   ]
  },
  {
   "cell_type": "markdown",
   "metadata": {
    "id": "ZiwDKd9GUApe"
   },
   "source": [
    "Como vemos que Rusia es el país con más suicidios decidimos buscar cual es el año en el cual hubo más suicidios en este país."
   ]
  },
  {
   "cell_type": "code",
   "execution_count": null,
   "metadata": {
    "id": "Z_fF1KpkUApg",
    "outputId": "bb47a100-9375-4956-ecfb-6eb0e2d2a879"
   },
   "outputs": [],
   "source": [
    "rusia = ds[ds['country']=='Russian Federation']\n",
    "plt.figure(figsize=(20,7))\n",
    "sns.stripplot(x=\"year\",y='porcentaje_suicidios',data=rusia)\n",
    "plt.xlabel('Año')\n",
    "plt.ylabel('Porcentaje de suicidios')\n",
    "plt.title('Porcentaje de suicidios durante los años en Rusia',size = 18)\n",
    "plt.xticks(rotation=45)\n",
    "plt.show()"
   ]
  },
  {
   "cell_type": "markdown",
   "metadata": {
    "id": "9B0y91FcUAps"
   },
   "source": [
    "<div class=''text-justify''>\n",
    "Como podemos observar el año que tuvo más porcentaje de suicidios fue 1994, así que decidimos enfocarnos en este año en Rusia para ver que tanto afecta a los géneros."
   ]
  },
  {
   "cell_type": "code",
   "execution_count": null,
   "metadata": {
    "id": "wbHqI_hGUApv",
    "outputId": "0b59c6cd-d2e0-4056-a4d7-53210ede6f05"
   },
   "outputs": [],
   "source": [
    "f, ax = plt.subplots(1,1, figsize=(8,5))\n",
    "mayor=ds[ds['year']==1994]\n",
    "mayor.head()\n",
    "ax = sns.boxplot(x='year', y='suicides_no',hue='sex', data=mayor[mayor['country']=='Russian Federation'],palette='Set2')\n",
    "sns.set(style=\"darkgrid\")\n",
    "\n",
    "plt.xlabel('Año',size=12)\n",
    "plt.ylabel('Numero suicidios')\n",
    "plt.title('Boxplot Hombres vs Mujeres en 1994 en Rusia',size = 18)"
   ]
  },
  {
   "cell_type": "markdown",
   "metadata": {
    "id": "8qnueFUYUAp4"
   },
   "source": [
    " <div class=text-justify>\n",
    "Esto que hicimos previamente nos ayudará para poder investigar desde un punto más especifico, el contexto en el que se vivió en los años con un mayor número de suicidios en Rusia, como en el año 1994, para determinar si existieron algunas situaciones que detonaran este incremento. Esto con el fin, de poder tener una conclusión.\n",
    "\n",
    "$$$$\n",
    " <div class=text-justify>\n",
    "Y, ahora para intentar verlo desde otra perspectiva, haremos una serie de gráficos con un enfoque de dividir nuestros datos por rangos de edades y separados también por sexo ya que con el gráfico anterior podemos ver como si existe una diferencia considerable."
   ]
  },
  {
   "cell_type": "code",
   "execution_count": null,
   "metadata": {
    "id": "ziJnw5VrUAp6",
    "outputId": "1af9593a-8687-40cd-bbe4-787845b8eba9"
   },
   "outputs": [],
   "source": [
    "plt.figure(figsize=(16,7))\n",
    "gb_edad = sns.barplot(x = 'sex', y = 'suicides_no', hue = 'age',data = ds)\n",
    "plt.xlabel('Sexo')\n",
    "plt.ylabel('Numero suicidios')"
   ]
  },
  {
   "cell_type": "markdown",
   "metadata": {
    "id": "KqN6wKpsUAqD"
   },
   "source": [
    " <div class=text-justify>\n",
    "Como podemos ver en el gráfico anterior, según los datos que estamos analizando, los hombres son el género con un mayor número de suicidios y además el rango de edad donde hay más suicidios es entre los 35 y 54 años de edad seguido por los de 55-74 años."
   ]
  },
  {
   "cell_type": "code",
   "execution_count": null,
   "metadata": {
    "id": "GYG4h4tiUAqG",
    "outputId": "72264f23-f04d-491f-97c0-24303a045b3f",
    "scrolled": false
   },
   "outputs": [],
   "source": [
    "S_year = pd.DataFrame(ds['suicides_no'].groupby([ds['age'],ds['year']]).sum())\n",
    "S_year = S_year.reset_index().sort_index(by='suicides_no',ascending=False)\n",
    "yr = S_year\n",
    "fig = plt.figure(figsize=(30,10))\n",
    "plt.title('Distribución de suicidios por grupos de edades',size = 30)\n",
    "\n",
    "sns.set(font_scale=2)\n",
    "sns.barplot(y='suicides_no',x='year',hue='age',data=yr,palette='deep');\n",
    "plt.ylabel('Suicidios')\n",
    "plt.xlabel('Año')\n",
    "plt.xticks(rotation=45)\n",
    "plt.tight_layout()"
   ]
  },
  {
   "cell_type": "markdown",
   "metadata": {
    "id": "CyBZ9gglUAqR"
   },
   "source": [
    " <div class=text-justify>\n",
    "Esta gráfica nos ayuda mucho con nuestros objetivos, dado que se ve un aumento muy significativo los primeros años, en especial de las personas con edades de entre 35 y 54 años, así que esto nos ayuda para identificar una posible causa de que las personas de pronto empezaran a cometer más suicidios y ver que hechos históricos afectaron."
   ]
  },
  {
   "cell_type": "markdown",
   "metadata": {
    "id": "4OnZmeczUAqT"
   },
   "source": [
    "$$Segundo \\space Objetivo$$\n",
    " <div class=text-justify>\n",
    "Por último, también consideramos importante (nuestro segundo objetivo) el buscar si afectaba los recursos económicos con los que se cuenta en cada país, así como también mostrar una gráfica individual de dispersión para los paises con mayor número de suicidios."
   ]
  },
  {
   "cell_type": "code",
   "execution_count": null,
   "metadata": {
    "id": "DlBrrzebUAqV",
    "outputId": "02d09eba-1d2f-4aca-8042-f689c524555a"
   },
   "outputs": [],
   "source": [
    "gdp_percapita = ds.groupby(by=['country', 'year', 'sex', 'per_capita']).agg({\"suicides_no\": ['sum']})\n",
    "gdp_percapita.columns = [\"totalsuicide\"]\n",
    "gdp_percapita.reset_index(inplace=True)\n",
    "\n",
    "gdp_percapita\n",
    "\n",
    "gdp_percapita_cng = gdp_percapita[gdp_percapita['totalsuicide'] < 40000]\n",
    "plt.figure(figsize=(13, 8))\n",
    "sns.scatterplot(x=\"per_capita\", y=\"totalsuicide\", hue=\"sex\", data=gdp_percapita_cng)\n",
    "\n",
    "plt.figtext(.5,.91,'Suicidios - PIB per capita (1985 - 2015)', color='b', fontsize=25, ha='center')\n",
    "plt.ylabel('Total de suicidios')\n",
    "plt.xlabel('PIB per capita')\n",
    "plt.show()\n",
    "plt.show()"
   ]
  },
  {
   "cell_type": "markdown",
   "metadata": {},
   "source": [
    " <div class=text-justify>\n",
    "Como se puede ver los datos están más acumulados hacia la izquierda de la gráfica, lo cual indica que existe un mayor número de suicidios cuando los recursos económicos son más bajos y esto le afecta más a los hombres."
   ]
  },
  {
   "cell_type": "markdown",
   "metadata": {},
   "source": [
    " <div class=text-justify>\n",
    "Ahora quisimos ver como se comportaba esto en los países con mayor número de suicidios."
   ]
  },
  {
   "cell_type": "code",
   "execution_count": null,
   "metadata": {
    "id": "upPlyNUKUAqg",
    "outputId": "750d74bb-c611-4ee3-b990-7337c89523dc"
   },
   "outputs": [],
   "source": [
    "plt.figure(figsize=(30, 15))\n",
    "paises = ['Russian Federation', 'United States', 'Japan', 'France']\n",
    "for i, column in enumerate(paises):\n",
    "    plt.subplot(2, 2, i+1)\n",
    "\n",
    "    t4paises_gdp_pc = ds.groupby(by=['country', 'year', 'per_capita']).agg({\"suicides_no\": ['sum']})\n",
    "    t4paises_gdp_pc.columns = [\"total_suicide\"]\n",
    "    t4paises_gdp_pc.reset_index(inplace=True)\n",
    "   \n",
    "    gdp_cn = t4paises_gdp_pc[t4paises_gdp_pc['country'] == column]\n",
    "\n",
    "    sns.scatterplot(x=\"per_capita\", y=\"total_suicide\", data=gdp_cn)\n",
    "    plt.title(f\"{column} total de suicidios -PIB per capita (1985 - 2015)\")\n",
    "    plt.xlabel('PIB per capita')\n",
    "    plt.ylabel('Total de suicidios')\n",
    "    \n",
    "plt.figtext(.5,.91,'Top 4 paises PIB per capita (1985 - 2015)', color='b', fontsize=25, ha='center')"
   ]
  },
  {
   "cell_type": "markdown",
   "metadata": {},
   "source": [
    " <div class=text-justify>\n",
    "Gracias a esta gráfica pudimos ver como afecta el nivel de ingresos en los distintos países, vemos que en Rusia y Francia el mayor número de suicidios ocurren cuando los ingresos son menores, contrario de Estados Unidos donde se observa que mientras más riqueza se tenga mayor es el número de suicidios, por su parte Japón muestra los datos muy dispersos, por lo cual no podemos decir si existe una relación entre el PIB per cápita y el total de suicidios."
   ]
  },
  {
   "cell_type": "markdown",
   "metadata": {},
   "source": [
    "## Conclusión General"
   ]
  },
  {
   "cell_type": "markdown",
   "metadata": {},
   "source": [
    " <div class=text-justify>\n",
    "Después de haber visualizado las gráficas y haber analizado los datos estadíticos llegamos a la conclusión de que el enfoque principal de los programas sociales para la prevención del suicidio debe de ser dirigido a los hombres de entre 35 y 54 años, porque pudimos observar que estos son los que presentan mayor número de suicidios.\n",
    "    \n",
    "$$$$\n",
    " <div class=text-justify>\n",
    "Durante la investigación de nuestro objetivo, nos encontramos con algo que nos llamó la atención que fue el alto número de suicidios que tenia Rusia y por ello decidimos indagar más a fondo en ese país y nos dimos cuenta que en 1994 fue el año más alarmante en cuanto a suicidios. Después de investigar, relacionamos este hecho con que a partir de 1992 se empezaron a aplicar políticas de carácter estructural, con el objetivo de construir una economía de mercado, y fue en 1994 cuando comenzó la etapa de transición, esto provocó que la producción industrial en ese año disminuyera en 50% de en comparación de la generada en 1990, lo cual tuvo como resultado una fuerte crisis en Rusia.\n",
    "    \n",
    " $$$$\n",
    " <div class=text-justify>\n",
    "Por último, nuestras gráficas fueron enfocadas en nuestor objetivo secundario por lo que se tomó la columna del PIB per cápita y nos dimos cuenta que de manera general, entre más bajo los recursos económicos más suicidios ocurren. Al analizar el top 4 de países con más suicidios de manera individual, se observó que en dos de los cuatro, entre más alto el PIB menos suicidios lo que sigue la tendencia que se obtuvo de manera general pero hubo uno que nos arrojó lo contrario, entre más alto el PIB más suicidios, y también hubo una que mostraba los datos muy dispersos. Todo eso nos dice que la relación entre la economía y el número de suicidios es mejor analizarla por país dado que existe variación entre cada uno."
   ]
  }
 ],
 "metadata": {
  "colab": {
   "collapsed_sections": [
    "3_qR_Q-5vdhg",
    "j7WyxoLTUfN7",
    "xy6Wss8EnDTu",
    "6Ux2zA2FvGhc",
    "xrT_yyyGIinG",
    "5Yc_eclDxPIa",
    "G3dcwnXzUAoR"
   ],
   "name": "YaCasi_AvancePIA_II_02_02.ipynb",
   "provenance": []
  },
  "kernelspec": {
   "display_name": "Python 3",
   "language": "python",
   "name": "python3"
  },
  "language_info": {
   "codemirror_mode": {
    "name": "ipython",
    "version": 3
   },
   "file_extension": ".py",
   "mimetype": "text/x-python",
   "name": "python",
   "nbconvert_exporter": "python",
   "pygments_lexer": "ipython3",
   "version": "3.7.4"
  }
 },
 "nbformat": 4,
 "nbformat_minor": 1
}
