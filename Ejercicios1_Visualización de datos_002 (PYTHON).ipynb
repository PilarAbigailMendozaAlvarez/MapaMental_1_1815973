{
 "cells": [
  {
   "cell_type": "markdown",
   "metadata": {},
   "source": [
    "$$UNIVERSIDAD\\hspace{1mm} AUTÓNOMA\\hspace{1mm} DE\\hspace{1mm} NUEVO\\hspace{1mm} LEÓN $$$$Facultad\\hspace{1mm}  de\\hspace {1mm}Ciencias\\hspace{1mm} Físico-Matemáticas $$$$Ejercicios\\hspace{1mm} 1 $$$$Mineria\\hspace{1mm}de\\hspace{1mm}Datos$$$$\\hspace{1mm}$$"
   ]
  },
  {
   "cell_type": "markdown",
   "metadata": {},
   "source": [
    "#### Equipo: Visualización de datos\n",
    "\n",
    "$Nombre$ $\\hspace{45mm}$  $Matricula$ <br>\n",
    " Flor Karina Juárez Rodríguez $\\hspace{12mm}$ 1802920  <br>\n",
    " Gloria Nohemí Martínez Jiménez $\\hspace{6mm}$ 1805800 <br>\n",
    " Pilar Abigail Mendoza Alvarez $\\hspace{11mm}$ 1815973 <br>\n",
    " Margarita Ordaz Ruiz $\\hspace{25mm}$ 1802473 <br>\n",
    " Tania Sarahi Rossel Castillo $\\hspace{14mm}$ 1810461  <br>"
   ]
  },
  {
   "cell_type": "code",
   "execution_count": 1,
   "metadata": {},
   "outputs": [],
   "source": [
    "#Datos x\n",
    "Altura = [ 162, 212, 220, 206, 152, 183, 167, 175, 156, 186, 183, 163, 163, 172, 194, 168, 161, 164, \n",
    "          188, 187, 162, 192, 184, 206, 175, 154, 187, 212, 195, 205 ]\n",
    "\n",
    "#Datos y\n",
    "Peso = [ 68.78, 74.11, 71.73, 69.88, 67.25, 68.78, 68.34, 67.01, 63.45, 71.19, 67.19, 65.8, 64.3, 67.97,\n",
    "        72.18, 65.27, 66.09, 67.51, 70.1, 68.25, 67.89, 68.14, 69.08, 72.8, 67.42, 68.49, 68.61, 74.03, 71.52, 69.18 ]"
   ]
  },
  {
   "cell_type": "code",
   "execution_count": 2,
   "metadata": {},
   "outputs": [],
   "source": [
    "import pandas as pd\n",
    "\n",
    "tabla = {'Altura': Altura, 'Peso': Peso}\n",
    "\n",
    "Mostrart = pd.DataFrame(tabla)"
   ]
  },
  {
   "cell_type": "markdown",
   "metadata": {},
   "source": [
    "#### EJERCICIO REGRESIÓN LINEAL ####\n",
    "Tomando los datos de la siguiente tabla sobre los pesos y alturas de una población de 30 personas, crea\n",
    "una gráfica en donde el valor x represente la altura y el valor y represente el peso. Después traza una línea\n",
    "que se apegue lo mas posible a los datos que graficaste."
   ]
  },
  {
   "cell_type": "code",
   "execution_count": 3,
   "metadata": {},
   "outputs": [
    {
     "data": {
      "text/html": [
       "<div>\n",
       "<style scoped>\n",
       "    .dataframe tbody tr th:only-of-type {\n",
       "        vertical-align: middle;\n",
       "    }\n",
       "\n",
       "    .dataframe tbody tr th {\n",
       "        vertical-align: top;\n",
       "    }\n",
       "\n",
       "    .dataframe thead th {\n",
       "        text-align: right;\n",
       "    }\n",
       "</style>\n",
       "<table border=\"1\" class=\"dataframe\">\n",
       "  <thead>\n",
       "    <tr style=\"text-align: right;\">\n",
       "      <th></th>\n",
       "      <th>Altura</th>\n",
       "      <th>Peso</th>\n",
       "    </tr>\n",
       "  </thead>\n",
       "  <tbody>\n",
       "    <tr>\n",
       "      <td>0</td>\n",
       "      <td>162</td>\n",
       "      <td>68.78</td>\n",
       "    </tr>\n",
       "    <tr>\n",
       "      <td>1</td>\n",
       "      <td>212</td>\n",
       "      <td>74.11</td>\n",
       "    </tr>\n",
       "    <tr>\n",
       "      <td>2</td>\n",
       "      <td>220</td>\n",
       "      <td>71.73</td>\n",
       "    </tr>\n",
       "    <tr>\n",
       "      <td>3</td>\n",
       "      <td>206</td>\n",
       "      <td>69.88</td>\n",
       "    </tr>\n",
       "    <tr>\n",
       "      <td>4</td>\n",
       "      <td>152</td>\n",
       "      <td>67.25</td>\n",
       "    </tr>\n",
       "    <tr>\n",
       "      <td>5</td>\n",
       "      <td>183</td>\n",
       "      <td>68.78</td>\n",
       "    </tr>\n",
       "    <tr>\n",
       "      <td>6</td>\n",
       "      <td>167</td>\n",
       "      <td>68.34</td>\n",
       "    </tr>\n",
       "    <tr>\n",
       "      <td>7</td>\n",
       "      <td>175</td>\n",
       "      <td>67.01</td>\n",
       "    </tr>\n",
       "    <tr>\n",
       "      <td>8</td>\n",
       "      <td>156</td>\n",
       "      <td>63.45</td>\n",
       "    </tr>\n",
       "    <tr>\n",
       "      <td>9</td>\n",
       "      <td>186</td>\n",
       "      <td>71.19</td>\n",
       "    </tr>\n",
       "    <tr>\n",
       "      <td>10</td>\n",
       "      <td>183</td>\n",
       "      <td>67.19</td>\n",
       "    </tr>\n",
       "    <tr>\n",
       "      <td>11</td>\n",
       "      <td>163</td>\n",
       "      <td>65.80</td>\n",
       "    </tr>\n",
       "    <tr>\n",
       "      <td>12</td>\n",
       "      <td>163</td>\n",
       "      <td>64.30</td>\n",
       "    </tr>\n",
       "    <tr>\n",
       "      <td>13</td>\n",
       "      <td>172</td>\n",
       "      <td>67.97</td>\n",
       "    </tr>\n",
       "    <tr>\n",
       "      <td>14</td>\n",
       "      <td>194</td>\n",
       "      <td>72.18</td>\n",
       "    </tr>\n",
       "    <tr>\n",
       "      <td>15</td>\n",
       "      <td>168</td>\n",
       "      <td>65.27</td>\n",
       "    </tr>\n",
       "    <tr>\n",
       "      <td>16</td>\n",
       "      <td>161</td>\n",
       "      <td>66.09</td>\n",
       "    </tr>\n",
       "    <tr>\n",
       "      <td>17</td>\n",
       "      <td>164</td>\n",
       "      <td>67.51</td>\n",
       "    </tr>\n",
       "    <tr>\n",
       "      <td>18</td>\n",
       "      <td>188</td>\n",
       "      <td>70.10</td>\n",
       "    </tr>\n",
       "    <tr>\n",
       "      <td>19</td>\n",
       "      <td>187</td>\n",
       "      <td>68.25</td>\n",
       "    </tr>\n",
       "    <tr>\n",
       "      <td>20</td>\n",
       "      <td>162</td>\n",
       "      <td>67.89</td>\n",
       "    </tr>\n",
       "    <tr>\n",
       "      <td>21</td>\n",
       "      <td>192</td>\n",
       "      <td>68.14</td>\n",
       "    </tr>\n",
       "    <tr>\n",
       "      <td>22</td>\n",
       "      <td>184</td>\n",
       "      <td>69.08</td>\n",
       "    </tr>\n",
       "    <tr>\n",
       "      <td>23</td>\n",
       "      <td>206</td>\n",
       "      <td>72.80</td>\n",
       "    </tr>\n",
       "    <tr>\n",
       "      <td>24</td>\n",
       "      <td>175</td>\n",
       "      <td>67.42</td>\n",
       "    </tr>\n",
       "    <tr>\n",
       "      <td>25</td>\n",
       "      <td>154</td>\n",
       "      <td>68.49</td>\n",
       "    </tr>\n",
       "    <tr>\n",
       "      <td>26</td>\n",
       "      <td>187</td>\n",
       "      <td>68.61</td>\n",
       "    </tr>\n",
       "    <tr>\n",
       "      <td>27</td>\n",
       "      <td>212</td>\n",
       "      <td>74.03</td>\n",
       "    </tr>\n",
       "    <tr>\n",
       "      <td>28</td>\n",
       "      <td>195</td>\n",
       "      <td>71.52</td>\n",
       "    </tr>\n",
       "    <tr>\n",
       "      <td>29</td>\n",
       "      <td>205</td>\n",
       "      <td>69.18</td>\n",
       "    </tr>\n",
       "  </tbody>\n",
       "</table>\n",
       "</div>"
      ],
      "text/plain": [
       "    Altura   Peso\n",
       "0      162  68.78\n",
       "1      212  74.11\n",
       "2      220  71.73\n",
       "3      206  69.88\n",
       "4      152  67.25\n",
       "5      183  68.78\n",
       "6      167  68.34\n",
       "7      175  67.01\n",
       "8      156  63.45\n",
       "9      186  71.19\n",
       "10     183  67.19\n",
       "11     163  65.80\n",
       "12     163  64.30\n",
       "13     172  67.97\n",
       "14     194  72.18\n",
       "15     168  65.27\n",
       "16     161  66.09\n",
       "17     164  67.51\n",
       "18     188  70.10\n",
       "19     187  68.25\n",
       "20     162  67.89\n",
       "21     192  68.14\n",
       "22     184  69.08\n",
       "23     206  72.80\n",
       "24     175  67.42\n",
       "25     154  68.49\n",
       "26     187  68.61\n",
       "27     212  74.03\n",
       "28     195  71.52\n",
       "29     205  69.18"
      ]
     },
     "execution_count": 3,
     "metadata": {},
     "output_type": "execute_result"
    }
   ],
   "source": [
    "Mostrart"
   ]
  },
  {
   "cell_type": "code",
   "execution_count": 4,
   "metadata": {},
   "outputs": [
    {
     "data": {
      "text/plain": [
       "<Figure size 640x480 with 1 Axes>"
      ]
     },
     "metadata": {},
     "output_type": "display_data"
    }
   ],
   "source": [
    "import matplotlib.pyplot as plt\n",
    "\n",
    "plt.scatter(x=Altura , y=Peso,  marker='*', c='pink', s=60)\n",
    "plt.show()"
   ]
  },
  {
   "cell_type": "code",
   "execution_count": 5,
   "metadata": {},
   "outputs": [],
   "source": [
    "import numpy as np\n",
    "\n",
    "array_x = np.array(Altura)\n",
    "array_y = np.array(Peso)"
   ]
  },
  {
   "cell_type": "code",
   "execution_count": 6,
   "metadata": {},
   "outputs": [],
   "source": [
    "n = len(array_x)\n",
    "sum_x = sum(array_x)\n",
    "sum_y = sum(array_y)\n",
    "sum_xy = sum(array_x*array_y)\n",
    "sum_xx = sum(array_x*array_x)\n",
    "sum_yy = sum(array_y*array_y)"
   ]
  },
  {
   "cell_type": "code",
   "execution_count": 7,
   "metadata": {},
   "outputs": [
    {
     "name": "stdout",
     "output_type": "stream",
     "text": [
      "La estimación de los parámetros para el modelo de regresión son: \n",
      "beta1: 0.1086107819535774\n",
      "beta0: 49.07163369547534\n"
     ]
    }
   ],
   "source": [
    "# Se obtienen los valores\n",
    "s_xy = sum_xy-(1/n)*sum_x*sum_y\n",
    "s_xx = sum_xx-(1/n)*sum_x**2\n",
    "\n",
    "beta_1 = s_xy / s_xx\n",
    "beta_0 = (1/n)*sum_y - beta_1*(1/n)*sum_x\n",
    "\n",
    "# Imprimir los resultados\n",
    "print(\"La estimación de los parámetros para el modelo de regresión son: \")\n",
    "print(\"beta1: \"+str(beta_1))\n",
    "print(\"beta0: \"+str(beta_0))"
   ]
  },
  {
   "cell_type": "markdown",
   "metadata": {},
   "source": [
    "Estos resultados nos llevan a concluir el siguiente modelo de regresión para los datos dados:\n",
    "$$ y =  \\hat{\\beta}_{0} + \\hat{\\beta}_{1}*x =  49.07163 + 0.10861*x$$\n",
    "Ahora agregaremos esta línea dentro del gráfico"
   ]
  },
  {
   "cell_type": "code",
   "execution_count": 8,
   "metadata": {},
   "outputs": [
    {
     "data": {
      "text/plain": [
       "[<matplotlib.lines.Line2D at 0x21b2e431308>]"
      ]
     },
     "execution_count": 8,
     "metadata": {},
     "output_type": "execute_result"
    },
    {
     "data": {
      "image/png": "[encoded data removed]",
      "text/plain": [
       "<Figure size 432x288 with 1 Axes>"
      ]
     },
     "metadata": {
      "needs_background": "light"
     },
     "output_type": "display_data"
    }
   ],
   "source": [
    "import matplotlib.pyplot as plt\n",
    "\n",
    "plt.scatter(x=Altura , y=Peso,  marker='*', c='pink', s=25)\n",
    "plt.plot(array_x, beta_0 + beta_1 * array_x, '-', c='purple')"
   ]
  },
  {
   "cell_type": "markdown",
   "metadata": {},
   "source": [
    "#### REGLAS DE ASOCIACIÓN ####\n",
    "Observa la tabla que se describe a continuación. Utilizando el algoritmo a priori, y la técnica de asociación, realiza la tabla de relaciones y resuelve cuál es el nivel **K** de soporte más alto al que podemos llegar con estos datos teniendo un umbral de 0.5."
   ]
  },
  {
   "cell_type": "code",
   "execution_count": 9,
   "metadata": {},
   "outputs": [
    {
     "name": "stdout",
     "output_type": "stream",
     "text": [
      "Requirement already satisfied: apyori in c:\\users\\jln\\anaconda3\\lib\\site-packages (1.1.2)\n",
      "Note: you may need to restart the kernel to use updated packages.\n"
     ]
    }
   ],
   "source": [
    "pip install apyori"
   ]
  },
  {
   "cell_type": "code",
   "execution_count": 10,
   "metadata": {},
   "outputs": [],
   "source": [
    "import numpy as np\n",
    "import pandas as pd\n",
    "import matplotlib.pyplot as plt\n",
    "from apyori import apriori"
   ]
  },
  {
   "cell_type": "code",
   "execution_count": 11,
   "metadata": {},
   "outputs": [],
   "source": [
    "datos={'ID':[1,2,3,4,5],'Transacciones':[\"A\" \"B\" \"C\" \"E\",\"B\" \"E\",\"C\" \"D\" \"E\",\"A\" \"C\" \"D\",\"A\" \"C\" \"E\"]}"
   ]
  },
  {
   "cell_type": "code",
   "execution_count": 12,
   "metadata": {},
   "outputs": [
    {
     "data": {
      "text/html": [
       "<div>\n",
       "<style scoped>\n",
       "    .dataframe tbody tr th:only-of-type {\n",
       "        vertical-align: middle;\n",
       "    }\n",
       "\n",
       "    .dataframe tbody tr th {\n",
       "        vertical-align: top;\n",
       "    }\n",
       "\n",
       "    .dataframe thead th {\n",
       "        text-align: right;\n",
       "    }\n",
       "</style>\n",
       "<table border=\"1\" class=\"dataframe\">\n",
       "  <thead>\n",
       "    <tr style=\"text-align: right;\">\n",
       "      <th></th>\n",
       "      <th>ID</th>\n",
       "      <th>Transacciones</th>\n",
       "    </tr>\n",
       "  </thead>\n",
       "  <tbody>\n",
       "    <tr>\n",
       "      <td>0</td>\n",
       "      <td>1</td>\n",
       "      <td>ABCE</td>\n",
       "    </tr>\n",
       "    <tr>\n",
       "      <td>1</td>\n",
       "      <td>2</td>\n",
       "      <td>BE</td>\n",
       "    </tr>\n",
       "    <tr>\n",
       "      <td>2</td>\n",
       "      <td>3</td>\n",
       "      <td>CDE</td>\n",
       "    </tr>\n",
       "    <tr>\n",
       "      <td>3</td>\n",
       "      <td>4</td>\n",
       "      <td>ACD</td>\n",
       "    </tr>\n",
       "    <tr>\n",
       "      <td>4</td>\n",
       "      <td>5</td>\n",
       "      <td>ACE</td>\n",
       "    </tr>\n",
       "  </tbody>\n",
       "</table>\n",
       "</div>"
      ],
      "text/plain": [
       "   ID Transacciones\n",
       "0   1          ABCE\n",
       "1   2            BE\n",
       "2   3           CDE\n",
       "3   4           ACD\n",
       "4   5           ACE"
      ]
     },
     "execution_count": 12,
     "metadata": {},
     "output_type": "execute_result"
    }
   ],
   "source": [
    "Tabla=pd.DataFrame(datos,columns=['ID','Transacciones'])\n",
    "Tabla"
   ]
  },
  {
   "cell_type": "code",
   "execution_count": 13,
   "metadata": {},
   "outputs": [],
   "source": [
    "records = []\n",
    "for i in range(0, 5):\n",
    "    records.append([str(Tabla.Transacciones[i][j]) for j in range(0,len(Tabla.Transacciones[i]))])"
   ]
  },
  {
   "cell_type": "code",
   "execution_count": 14,
   "metadata": {},
   "outputs": [],
   "source": [
    "rules = apriori(records, min_support = 0.5, min_confidence = 0.5, min_lift = 0, min_length =1)"
   ]
  },
  {
   "cell_type": "code",
   "execution_count": 15,
   "metadata": {},
   "outputs": [],
   "source": [
    "results = list(rules)"
   ]
  },
  {
   "cell_type": "code",
   "execution_count": 16,
   "metadata": {},
   "outputs": [],
   "source": [
    "antecedents = [tuple(item[0]) for result in results for item in result[2]]\n",
    "consecuents = [tuple(item[1]) for result in results for item in result[2]]\n",
    "supports = [result[1] for result in results for item in result[2]]\n",
    "confidences = [item[2] for result in results for item in result[2]]\n",
    "lifts = [item[3] for result in results for item in result[2]]\n",
    "table = list(zip(antecedents, consecuents, supports, confidences, lifts))"
   ]
  },
  {
   "cell_type": "code",
   "execution_count": 17,
   "metadata": {},
   "outputs": [
    {
     "data": {
      "text/html": [
       "<div>\n",
       "<style scoped>\n",
       "    .dataframe tbody tr th:only-of-type {\n",
       "        vertical-align: middle;\n",
       "    }\n",
       "\n",
       "    .dataframe tbody tr th {\n",
       "        vertical-align: top;\n",
       "    }\n",
       "\n",
       "    .dataframe thead th {\n",
       "        text-align: right;\n",
       "    }\n",
       "</style>\n",
       "<table border=\"1\" class=\"dataframe\">\n",
       "  <thead>\n",
       "    <tr style=\"text-align: right;\">\n",
       "      <th></th>\n",
       "      <th>Antecedente</th>\n",
       "      <th>Consecuente</th>\n",
       "      <th>Soporte</th>\n",
       "      <th>Confianza</th>\n",
       "      <th>Lift</th>\n",
       "    </tr>\n",
       "  </thead>\n",
       "  <tbody>\n",
       "    <tr>\n",
       "      <td>0</td>\n",
       "      <td>()</td>\n",
       "      <td>(A,)</td>\n",
       "      <td>0.6</td>\n",
       "      <td>0.60</td>\n",
       "      <td>1.0000</td>\n",
       "    </tr>\n",
       "    <tr>\n",
       "      <td>1</td>\n",
       "      <td>()</td>\n",
       "      <td>(C,)</td>\n",
       "      <td>0.8</td>\n",
       "      <td>0.80</td>\n",
       "      <td>1.0000</td>\n",
       "    </tr>\n",
       "    <tr>\n",
       "      <td>2</td>\n",
       "      <td>()</td>\n",
       "      <td>(E,)</td>\n",
       "      <td>0.8</td>\n",
       "      <td>0.80</td>\n",
       "      <td>1.0000</td>\n",
       "    </tr>\n",
       "    <tr>\n",
       "      <td>3</td>\n",
       "      <td>()</td>\n",
       "      <td>(A, C)</td>\n",
       "      <td>0.6</td>\n",
       "      <td>0.60</td>\n",
       "      <td>1.0000</td>\n",
       "    </tr>\n",
       "    <tr>\n",
       "      <td>4</td>\n",
       "      <td>(A,)</td>\n",
       "      <td>(C,)</td>\n",
       "      <td>0.6</td>\n",
       "      <td>1.00</td>\n",
       "      <td>1.2500</td>\n",
       "    </tr>\n",
       "    <tr>\n",
       "      <td>5</td>\n",
       "      <td>(C,)</td>\n",
       "      <td>(A,)</td>\n",
       "      <td>0.6</td>\n",
       "      <td>0.75</td>\n",
       "      <td>1.2500</td>\n",
       "    </tr>\n",
       "    <tr>\n",
       "      <td>6</td>\n",
       "      <td>()</td>\n",
       "      <td>(E, C)</td>\n",
       "      <td>0.6</td>\n",
       "      <td>0.60</td>\n",
       "      <td>1.0000</td>\n",
       "    </tr>\n",
       "    <tr>\n",
       "      <td>7</td>\n",
       "      <td>(C,)</td>\n",
       "      <td>(E,)</td>\n",
       "      <td>0.6</td>\n",
       "      <td>0.75</td>\n",
       "      <td>0.9375</td>\n",
       "    </tr>\n",
       "    <tr>\n",
       "      <td>8</td>\n",
       "      <td>(E,)</td>\n",
       "      <td>(C,)</td>\n",
       "      <td>0.6</td>\n",
       "      <td>0.75</td>\n",
       "      <td>0.9375</td>\n",
       "    </tr>\n",
       "  </tbody>\n",
       "</table>\n",
       "</div>"
      ],
      "text/plain": [
       "  Antecedente Consecuente  Soporte  Confianza    Lift\n",
       "0          ()        (A,)      0.6       0.60  1.0000\n",
       "1          ()        (C,)      0.8       0.80  1.0000\n",
       "2          ()        (E,)      0.8       0.80  1.0000\n",
       "3          ()      (A, C)      0.6       0.60  1.0000\n",
       "4        (A,)        (C,)      0.6       1.00  1.2500\n",
       "5        (C,)        (A,)      0.6       0.75  1.2500\n",
       "6          ()      (E, C)      0.6       0.60  1.0000\n",
       "7        (C,)        (E,)      0.6       0.75  0.9375\n",
       "8        (E,)        (C,)      0.6       0.75  0.9375"
      ]
     },
     "execution_count": 17,
     "metadata": {},
     "output_type": "execute_result"
    }
   ],
   "source": [
    "TablaDeResultados=pd.DataFrame(table, columns = ['Antecedente', 'Consecuente', 'Soporte','Confianza', 'Lift'])\n",
    "TablaDeResultados"
   ]
  },
  {
   "cell_type": "markdown",
   "metadata": {},
   "source": [
    "   ##### K=1 #####\n",
    "**A**\n",
    "*Soporte=0.6\n",
    "Confianza=0.6\n",
    "Lift=1*\n",
    "\n",
    "**C**\n",
    "*Soporte=0.8\n",
    "Confianza=0.8\n",
    "Lift=1*\n",
    "\n",
    "**E**\n",
    "*Soporte=0.8\n",
    "Confianza=0.8\n",
    "Lift=1*"
   ]
  },
  {
   "cell_type": "markdown",
   "metadata": {},
   "source": [
    "##### K=2 #####\n",
    "\n",
    "**(A,C)**\n",
    "*Soporte=0.6\n",
    "Confianza=0.6\n",
    "Lift=1*\n",
    "\n",
    "**A->C**\n",
    "*Soporte=0.6\n",
    "Confianza=1\n",
    "Lift=1.25*\n",
    "\n",
    "**C->A**\n",
    "*Soporte=0.6\n",
    "Confianza=0.75\n",
    "Lift=1.25*\n",
    "\n",
    "\n",
    "\n",
    "\n",
    "\n",
    "\n",
    "\n",
    "\n",
    "**(C,E)**\n",
    "*Soporte=0.6\n",
    "Confianza=0.6\n",
    "Lift=1*\n",
    "\n",
    "**C->E**\n",
    "*Soporte=0.6\n",
    "Confianza=0.75\n",
    "Lift=0.9375*\n",
    "\n",
    "**E->C**\n",
    "*Soporte=0.6\n",
    "Confianza=0.75\n",
    "Lift=0.9375*\n",
    "\n",
    "\n"
   ]
  },
  {
   "cell_type": "markdown",
   "metadata": {},
   "source": [
    "El nivel de soporte más alto con umbral de 0.5 es **K = 2**."
   ]
  },
  {
   "cell_type": "markdown",
   "metadata": {},
   "source": [
    "Con un umbral de 0.5 obtenemos las siguientes reglas de asociación:\n",
    "\n",
    "- A -> C \n",
    "- C -> A  \n",
    "- C -> E \n",
    "- E -> C"
   ]
  },
  {
   "cell_type": "markdown",
   "metadata": {},
   "source": [
    "Un **lift>1** indica que ese conjunto aparece una cantidad de veces superior a lo esperado bajo condiciones de independencia, por lo que se puede intuir que existe una relación que hace que los productos se encuentren en el conjunto más veces de lo normal."
   ]
  },
  {
   "cell_type": "markdown",
   "metadata": {},
   "source": [
    "Por lo que las mejores reglas de asociación son **A->C** y **C->A**"
   ]
  }
 ],
 "metadata": {
  "kernelspec": {
   "display_name": "Python 3",
   "language": "python",
   "name": "python3"
  },
  "language_info": {
   "codemirror_mode": {
    "name": "ipython",
    "version": 3
   },
   "file_extension": ".py",
   "mimetype": "text/x-python",
   "name": "python",
   "nbconvert_exporter": "python",
   "pygments_lexer": "ipython3",
   "version": "3.7.4"
  }
 },
 "nbformat": 4,
 "nbformat_minor": 2
}
